{
  "nbformat": 4,
  "nbformat_minor": 0,
  "metadata": {
    "colab": {
      "provenance": [],
      "gpuType": "T4",
      "authorship_tag": "ABX9TyPrKFKhGYWhQMS/qHveXYsy",
      "include_colab_link": true
    },
    "kernelspec": {
      "name": "python3",
      "display_name": "Python 3"
    },
    "language_info": {
      "name": "python"
    },
    "accelerator": "GPU"
  },
  "cells": [
    {
      "cell_type": "markdown",
      "metadata": {
        "id": "view-in-github",
        "colab_type": "text"
      },
      "source": [
        "<a href=\"https://colab.research.google.com/github/sifulsidd/pytorch/blob/master/02_neural_network_classification.ipynb\" target=\"_parent\"><img src=\"https://colab.research.google.com/assets/colab-badge.svg\" alt=\"Open In Colab\"/></a>"
      ]
    },
    {
      "cell_type": "markdown",
      "source": [
        "# 02. Neural Network classification with PyTorch\n",
        "\n",
        "Classification is a problem of predicting whether something is one thing or another (there can be multiple things as the option)"
      ],
      "metadata": {
        "id": "g1G-z_TEMx0q"
      }
    },
    {
      "cell_type": "markdown",
      "source": [
        "## 1. Make classification data and get it ready"
      ],
      "metadata": {
        "id": "GlUkQ3JIAo6W"
      }
    },
    {
      "cell_type": "code",
      "source": [
        "import sklearn"
      ],
      "metadata": {
        "id": "s5Ka__dVD0_Z"
      },
      "execution_count": 41,
      "outputs": []
    },
    {
      "cell_type": "code",
      "source": [
        "from sklearn.datasets import make_circles\n",
        "\n",
        "# Make 1000 samples\n",
        "n_samples = 1000\n",
        "\n",
        "# Create circles\n",
        "X, y = make_circles(n_samples,\n",
        "                    noise = 0.03,\n",
        "                    random_state=42)"
      ],
      "metadata": {
        "id": "JHEe7SVDD35x"
      },
      "execution_count": 42,
      "outputs": []
    },
    {
      "cell_type": "code",
      "source": [
        "len(X), len(y)"
      ],
      "metadata": {
        "colab": {
          "base_uri": "https://localhost:8080/"
        },
        "id": "Naecn0ZdEKVJ",
        "outputId": "5a2fa4f0-bcd2-4235-818c-8587c249b9b1"
      },
      "execution_count": 43,
      "outputs": [
        {
          "output_type": "execute_result",
          "data": {
            "text/plain": [
              "(1000, 1000)"
            ]
          },
          "metadata": {},
          "execution_count": 43
        }
      ]
    },
    {
      "cell_type": "code",
      "source": [
        "print(f\"First 5 samples of X:\\n {X[:5]}\")\n",
        "print(f\"First 5 samples of y:\\n {y[:5]}\")"
      ],
      "metadata": {
        "colab": {
          "base_uri": "https://localhost:8080/"
        },
        "id": "yalt5M7HENIG",
        "outputId": "cbecc807-61bc-4016-9fd8-cc2bbabe384b"
      },
      "execution_count": 44,
      "outputs": [
        {
          "output_type": "stream",
          "name": "stdout",
          "text": [
            "First 5 samples of X:\n",
            " [[ 0.75424625  0.23148074]\n",
            " [-0.75615888  0.15325888]\n",
            " [-0.81539193  0.17328203]\n",
            " [-0.39373073  0.69288277]\n",
            " [ 0.44220765 -0.89672343]]\n",
            "First 5 samples of y:\n",
            " [1 1 1 1 0]\n"
          ]
        }
      ]
    },
    {
      "cell_type": "code",
      "source": [
        "# Make DataFrame of circle data\n",
        "import pandas as pd\n",
        "circles = pd.DataFrame({\"X1\": X[:, 0],\n",
        "                        \"X2\": X[:,1],\n",
        "                        \"label\": y})\n",
        "circles.head(10)"
      ],
      "metadata": {
        "colab": {
          "base_uri": "https://localhost:8080/",
          "height": 363
        },
        "id": "_zd41hnDEbHN",
        "outputId": "1e664038-6e15-4683-b8ce-e6fc10b8408e"
      },
      "execution_count": 45,
      "outputs": [
        {
          "output_type": "execute_result",
          "data": {
            "text/plain": [
              "         X1        X2  label\n",
              "0  0.754246  0.231481      1\n",
              "1 -0.756159  0.153259      1\n",
              "2 -0.815392  0.173282      1\n",
              "3 -0.393731  0.692883      1\n",
              "4  0.442208 -0.896723      0\n",
              "5 -0.479646  0.676435      1\n",
              "6 -0.013648  0.803349      1\n",
              "7  0.771513  0.147760      1\n",
              "8 -0.169322 -0.793456      1\n",
              "9 -0.121486  1.021509      0"
            ],
            "text/html": [
              "\n",
              "  <div id=\"df-5092459e-b172-40aa-bbf2-b142c08358b4\" class=\"colab-df-container\">\n",
              "    <div>\n",
              "<style scoped>\n",
              "    .dataframe tbody tr th:only-of-type {\n",
              "        vertical-align: middle;\n",
              "    }\n",
              "\n",
              "    .dataframe tbody tr th {\n",
              "        vertical-align: top;\n",
              "    }\n",
              "\n",
              "    .dataframe thead th {\n",
              "        text-align: right;\n",
              "    }\n",
              "</style>\n",
              "<table border=\"1\" class=\"dataframe\">\n",
              "  <thead>\n",
              "    <tr style=\"text-align: right;\">\n",
              "      <th></th>\n",
              "      <th>X1</th>\n",
              "      <th>X2</th>\n",
              "      <th>label</th>\n",
              "    </tr>\n",
              "  </thead>\n",
              "  <tbody>\n",
              "    <tr>\n",
              "      <th>0</th>\n",
              "      <td>0.754246</td>\n",
              "      <td>0.231481</td>\n",
              "      <td>1</td>\n",
              "    </tr>\n",
              "    <tr>\n",
              "      <th>1</th>\n",
              "      <td>-0.756159</td>\n",
              "      <td>0.153259</td>\n",
              "      <td>1</td>\n",
              "    </tr>\n",
              "    <tr>\n",
              "      <th>2</th>\n",
              "      <td>-0.815392</td>\n",
              "      <td>0.173282</td>\n",
              "      <td>1</td>\n",
              "    </tr>\n",
              "    <tr>\n",
              "      <th>3</th>\n",
              "      <td>-0.393731</td>\n",
              "      <td>0.692883</td>\n",
              "      <td>1</td>\n",
              "    </tr>\n",
              "    <tr>\n",
              "      <th>4</th>\n",
              "      <td>0.442208</td>\n",
              "      <td>-0.896723</td>\n",
              "      <td>0</td>\n",
              "    </tr>\n",
              "    <tr>\n",
              "      <th>5</th>\n",
              "      <td>-0.479646</td>\n",
              "      <td>0.676435</td>\n",
              "      <td>1</td>\n",
              "    </tr>\n",
              "    <tr>\n",
              "      <th>6</th>\n",
              "      <td>-0.013648</td>\n",
              "      <td>0.803349</td>\n",
              "      <td>1</td>\n",
              "    </tr>\n",
              "    <tr>\n",
              "      <th>7</th>\n",
              "      <td>0.771513</td>\n",
              "      <td>0.147760</td>\n",
              "      <td>1</td>\n",
              "    </tr>\n",
              "    <tr>\n",
              "      <th>8</th>\n",
              "      <td>-0.169322</td>\n",
              "      <td>-0.793456</td>\n",
              "      <td>1</td>\n",
              "    </tr>\n",
              "    <tr>\n",
              "      <th>9</th>\n",
              "      <td>-0.121486</td>\n",
              "      <td>1.021509</td>\n",
              "      <td>0</td>\n",
              "    </tr>\n",
              "  </tbody>\n",
              "</table>\n",
              "</div>\n",
              "    <div class=\"colab-df-buttons\">\n",
              "\n",
              "  <div class=\"colab-df-container\">\n",
              "    <button class=\"colab-df-convert\" onclick=\"convertToInteractive('df-5092459e-b172-40aa-bbf2-b142c08358b4')\"\n",
              "            title=\"Convert this dataframe to an interactive table.\"\n",
              "            style=\"display:none;\">\n",
              "\n",
              "  <svg xmlns=\"http://www.w3.org/2000/svg\" height=\"24px\" viewBox=\"0 -960 960 960\">\n",
              "    <path d=\"M120-120v-720h720v720H120Zm60-500h600v-160H180v160Zm220 220h160v-160H400v160Zm0 220h160v-160H400v160ZM180-400h160v-160H180v160Zm440 0h160v-160H620v160ZM180-180h160v-160H180v160Zm440 0h160v-160H620v160Z\"/>\n",
              "  </svg>\n",
              "    </button>\n",
              "\n",
              "  <style>\n",
              "    .colab-df-container {\n",
              "      display:flex;\n",
              "      gap: 12px;\n",
              "    }\n",
              "\n",
              "    .colab-df-convert {\n",
              "      background-color: #E8F0FE;\n",
              "      border: none;\n",
              "      border-radius: 50%;\n",
              "      cursor: pointer;\n",
              "      display: none;\n",
              "      fill: #1967D2;\n",
              "      height: 32px;\n",
              "      padding: 0 0 0 0;\n",
              "      width: 32px;\n",
              "    }\n",
              "\n",
              "    .colab-df-convert:hover {\n",
              "      background-color: #E2EBFA;\n",
              "      box-shadow: 0px 1px 2px rgba(60, 64, 67, 0.3), 0px 1px 3px 1px rgba(60, 64, 67, 0.15);\n",
              "      fill: #174EA6;\n",
              "    }\n",
              "\n",
              "    .colab-df-buttons div {\n",
              "      margin-bottom: 4px;\n",
              "    }\n",
              "\n",
              "    [theme=dark] .colab-df-convert {\n",
              "      background-color: #3B4455;\n",
              "      fill: #D2E3FC;\n",
              "    }\n",
              "\n",
              "    [theme=dark] .colab-df-convert:hover {\n",
              "      background-color: #434B5C;\n",
              "      box-shadow: 0px 1px 3px 1px rgba(0, 0, 0, 0.15);\n",
              "      filter: drop-shadow(0px 1px 2px rgba(0, 0, 0, 0.3));\n",
              "      fill: #FFFFFF;\n",
              "    }\n",
              "  </style>\n",
              "\n",
              "    <script>\n",
              "      const buttonEl =\n",
              "        document.querySelector('#df-5092459e-b172-40aa-bbf2-b142c08358b4 button.colab-df-convert');\n",
              "      buttonEl.style.display =\n",
              "        google.colab.kernel.accessAllowed ? 'block' : 'none';\n",
              "\n",
              "      async function convertToInteractive(key) {\n",
              "        const element = document.querySelector('#df-5092459e-b172-40aa-bbf2-b142c08358b4');\n",
              "        const dataTable =\n",
              "          await google.colab.kernel.invokeFunction('convertToInteractive',\n",
              "                                                    [key], {});\n",
              "        if (!dataTable) return;\n",
              "\n",
              "        const docLinkHtml = 'Like what you see? Visit the ' +\n",
              "          '<a target=\"_blank\" href=https://colab.research.google.com/notebooks/data_table.ipynb>data table notebook</a>'\n",
              "          + ' to learn more about interactive tables.';\n",
              "        element.innerHTML = '';\n",
              "        dataTable['output_type'] = 'display_data';\n",
              "        await google.colab.output.renderOutput(dataTable, element);\n",
              "        const docLink = document.createElement('div');\n",
              "        docLink.innerHTML = docLinkHtml;\n",
              "        element.appendChild(docLink);\n",
              "      }\n",
              "    </script>\n",
              "  </div>\n",
              "\n",
              "\n",
              "    <div id=\"df-19b49e25-ea57-4602-ade9-dea45b138fd7\">\n",
              "      <button class=\"colab-df-quickchart\" onclick=\"quickchart('df-19b49e25-ea57-4602-ade9-dea45b138fd7')\"\n",
              "                title=\"Suggest charts\"\n",
              "                style=\"display:none;\">\n",
              "\n",
              "<svg xmlns=\"http://www.w3.org/2000/svg\" height=\"24px\"viewBox=\"0 0 24 24\"\n",
              "     width=\"24px\">\n",
              "    <g>\n",
              "        <path d=\"M19 3H5c-1.1 0-2 .9-2 2v14c0 1.1.9 2 2 2h14c1.1 0 2-.9 2-2V5c0-1.1-.9-2-2-2zM9 17H7v-7h2v7zm4 0h-2V7h2v10zm4 0h-2v-4h2v4z\"/>\n",
              "    </g>\n",
              "</svg>\n",
              "      </button>\n",
              "\n",
              "<style>\n",
              "  .colab-df-quickchart {\n",
              "      --bg-color: #E8F0FE;\n",
              "      --fill-color: #1967D2;\n",
              "      --hover-bg-color: #E2EBFA;\n",
              "      --hover-fill-color: #174EA6;\n",
              "      --disabled-fill-color: #AAA;\n",
              "      --disabled-bg-color: #DDD;\n",
              "  }\n",
              "\n",
              "  [theme=dark] .colab-df-quickchart {\n",
              "      --bg-color: #3B4455;\n",
              "      --fill-color: #D2E3FC;\n",
              "      --hover-bg-color: #434B5C;\n",
              "      --hover-fill-color: #FFFFFF;\n",
              "      --disabled-bg-color: #3B4455;\n",
              "      --disabled-fill-color: #666;\n",
              "  }\n",
              "\n",
              "  .colab-df-quickchart {\n",
              "    background-color: var(--bg-color);\n",
              "    border: none;\n",
              "    border-radius: 50%;\n",
              "    cursor: pointer;\n",
              "    display: none;\n",
              "    fill: var(--fill-color);\n",
              "    height: 32px;\n",
              "    padding: 0;\n",
              "    width: 32px;\n",
              "  }\n",
              "\n",
              "  .colab-df-quickchart:hover {\n",
              "    background-color: var(--hover-bg-color);\n",
              "    box-shadow: 0 1px 2px rgba(60, 64, 67, 0.3), 0 1px 3px 1px rgba(60, 64, 67, 0.15);\n",
              "    fill: var(--button-hover-fill-color);\n",
              "  }\n",
              "\n",
              "  .colab-df-quickchart-complete:disabled,\n",
              "  .colab-df-quickchart-complete:disabled:hover {\n",
              "    background-color: var(--disabled-bg-color);\n",
              "    fill: var(--disabled-fill-color);\n",
              "    box-shadow: none;\n",
              "  }\n",
              "\n",
              "  .colab-df-spinner {\n",
              "    border: 2px solid var(--fill-color);\n",
              "    border-color: transparent;\n",
              "    border-bottom-color: var(--fill-color);\n",
              "    animation:\n",
              "      spin 1s steps(1) infinite;\n",
              "  }\n",
              "\n",
              "  @keyframes spin {\n",
              "    0% {\n",
              "      border-color: transparent;\n",
              "      border-bottom-color: var(--fill-color);\n",
              "      border-left-color: var(--fill-color);\n",
              "    }\n",
              "    20% {\n",
              "      border-color: transparent;\n",
              "      border-left-color: var(--fill-color);\n",
              "      border-top-color: var(--fill-color);\n",
              "    }\n",
              "    30% {\n",
              "      border-color: transparent;\n",
              "      border-left-color: var(--fill-color);\n",
              "      border-top-color: var(--fill-color);\n",
              "      border-right-color: var(--fill-color);\n",
              "    }\n",
              "    40% {\n",
              "      border-color: transparent;\n",
              "      border-right-color: var(--fill-color);\n",
              "      border-top-color: var(--fill-color);\n",
              "    }\n",
              "    60% {\n",
              "      border-color: transparent;\n",
              "      border-right-color: var(--fill-color);\n",
              "    }\n",
              "    80% {\n",
              "      border-color: transparent;\n",
              "      border-right-color: var(--fill-color);\n",
              "      border-bottom-color: var(--fill-color);\n",
              "    }\n",
              "    90% {\n",
              "      border-color: transparent;\n",
              "      border-bottom-color: var(--fill-color);\n",
              "    }\n",
              "  }\n",
              "</style>\n",
              "\n",
              "      <script>\n",
              "        async function quickchart(key) {\n",
              "          const quickchartButtonEl =\n",
              "            document.querySelector('#' + key + ' button');\n",
              "          quickchartButtonEl.disabled = true;  // To prevent multiple clicks.\n",
              "          quickchartButtonEl.classList.add('colab-df-spinner');\n",
              "          try {\n",
              "            const charts = await google.colab.kernel.invokeFunction(\n",
              "                'suggestCharts', [key], {});\n",
              "          } catch (error) {\n",
              "            console.error('Error during call to suggestCharts:', error);\n",
              "          }\n",
              "          quickchartButtonEl.classList.remove('colab-df-spinner');\n",
              "          quickchartButtonEl.classList.add('colab-df-quickchart-complete');\n",
              "        }\n",
              "        (() => {\n",
              "          let quickchartButtonEl =\n",
              "            document.querySelector('#df-19b49e25-ea57-4602-ade9-dea45b138fd7 button');\n",
              "          quickchartButtonEl.style.display =\n",
              "            google.colab.kernel.accessAllowed ? 'block' : 'none';\n",
              "        })();\n",
              "      </script>\n",
              "    </div>\n",
              "\n",
              "    </div>\n",
              "  </div>\n"
            ],
            "application/vnd.google.colaboratory.intrinsic+json": {
              "type": "dataframe",
              "variable_name": "circles",
              "summary": "{\n  \"name\": \"circles\",\n  \"rows\": 1000,\n  \"fields\": [\n    {\n      \"column\": \"X1\",\n      \"properties\": {\n        \"dtype\": \"number\",\n        \"std\": 0.6398365674574611,\n        \"min\": -1.0595024599098635,\n        \"max\": 1.0337117525463373,\n        \"num_unique_values\": 1000,\n        \"samples\": [\n          -0.3751930206933384,\n          0.015380346701456493,\n          -0.7027835978832848\n        ],\n        \"semantic_type\": \"\",\n        \"description\": \"\"\n      }\n    },\n    {\n      \"column\": \"X2\",\n      \"properties\": {\n        \"dtype\": \"number\",\n        \"std\": 0.6411559581015379,\n        \"min\": -1.0677683182718436,\n        \"max\": 1.0360036756154805,\n        \"num_unique_values\": 1000,\n        \"samples\": [\n          0.6826597225888621,\n          0.9600260220697324,\n          -0.3147169925147762\n        ],\n        \"semantic_type\": \"\",\n        \"description\": \"\"\n      }\n    },\n    {\n      \"column\": \"label\",\n      \"properties\": {\n        \"dtype\": \"number\",\n        \"std\": 0,\n        \"min\": 0,\n        \"max\": 1,\n        \"num_unique_values\": 2,\n        \"samples\": [\n          0,\n          1\n        ],\n        \"semantic_type\": \"\",\n        \"description\": \"\"\n      }\n    }\n  ]\n}"
            }
          },
          "metadata": {},
          "execution_count": 45
        }
      ]
    },
    {
      "cell_type": "code",
      "source": [
        "circles.label.value_counts()"
      ],
      "metadata": {
        "colab": {
          "base_uri": "https://localhost:8080/",
          "height": 178
        },
        "id": "ALeaYeaTeuk2",
        "outputId": "f0a038be-aca7-42fa-b876-f95869f5474a"
      },
      "execution_count": 46,
      "outputs": [
        {
          "output_type": "execute_result",
          "data": {
            "text/plain": [
              "label\n",
              "1    500\n",
              "0    500\n",
              "Name: count, dtype: int64"
            ],
            "text/html": [
              "<div>\n",
              "<style scoped>\n",
              "    .dataframe tbody tr th:only-of-type {\n",
              "        vertical-align: middle;\n",
              "    }\n",
              "\n",
              "    .dataframe tbody tr th {\n",
              "        vertical-align: top;\n",
              "    }\n",
              "\n",
              "    .dataframe thead th {\n",
              "        text-align: right;\n",
              "    }\n",
              "</style>\n",
              "<table border=\"1\" class=\"dataframe\">\n",
              "  <thead>\n",
              "    <tr style=\"text-align: right;\">\n",
              "      <th></th>\n",
              "      <th>count</th>\n",
              "    </tr>\n",
              "    <tr>\n",
              "      <th>label</th>\n",
              "      <th></th>\n",
              "    </tr>\n",
              "  </thead>\n",
              "  <tbody>\n",
              "    <tr>\n",
              "      <th>1</th>\n",
              "      <td>500</td>\n",
              "    </tr>\n",
              "    <tr>\n",
              "      <th>0</th>\n",
              "      <td>500</td>\n",
              "    </tr>\n",
              "  </tbody>\n",
              "</table>\n",
              "</div><br><label><b>dtype:</b> int64</label>"
            ]
          },
          "metadata": {},
          "execution_count": 46
        }
      ]
    },
    {
      "cell_type": "code",
      "source": [
        "# Visualize, visualize, visualize\n",
        "import matplotlib.pyplot as plt\n",
        "plt.scatter(x=X[:,0],\n",
        "            y=X[:,1],\n",
        "            c=y,\n",
        "            cmap = plt.cm.RdYlBu)"
      ],
      "metadata": {
        "colab": {
          "base_uri": "https://localhost:8080/",
          "height": 448
        },
        "id": "2_HWxNEtEoKx",
        "outputId": "46ab33d4-57cf-47bd-e35f-285648866e8c"
      },
      "execution_count": 47,
      "outputs": [
        {
          "output_type": "execute_result",
          "data": {
            "text/plain": [
              "<matplotlib.collections.PathCollection at 0x791bf0db2ad0>"
            ]
          },
          "metadata": {},
          "execution_count": 47
        },
        {
          "output_type": "display_data",
          "data": {
            "text/plain": [
              "<Figure size 640x480 with 1 Axes>"
            ],
            "image/png": "[encoded data removed]"
          },
          "metadata": {}
        }
      ]
    },
    {
      "cell_type": "markdown",
      "source": [
        "**Note**: The data we are working with is often referred to as a toy dataset, a dataset that is small enough to experiment on but still sizeable enough to practice the fundamentals."
      ],
      "metadata": {
        "id": "p6nVnKx5FSWv"
      }
    },
    {
      "cell_type": "markdown",
      "source": [
        "### 1.1 Check input and output shapes"
      ],
      "metadata": {
        "id": "uyjLx1-ZFSUf"
      }
    },
    {
      "cell_type": "code",
      "source": [
        "X.shape, y.shape"
      ],
      "metadata": {
        "colab": {
          "base_uri": "https://localhost:8080/"
        },
        "id": "ku0IO-tFFSRw",
        "outputId": "4fd14936-771d-4642-a05a-a7b2d7a71519"
      },
      "execution_count": 48,
      "outputs": [
        {
          "output_type": "execute_result",
          "data": {
            "text/plain": [
              "((1000, 2), (1000,))"
            ]
          },
          "metadata": {},
          "execution_count": 48
        }
      ]
    },
    {
      "cell_type": "code",
      "source": [
        "X"
      ],
      "metadata": {
        "colab": {
          "base_uri": "https://localhost:8080/"
        },
        "id": "h1XpoeJrFSP8",
        "outputId": "3139beb0-b7ec-4125-89b7-ede4748e0f85"
      },
      "execution_count": 49,
      "outputs": [
        {
          "output_type": "execute_result",
          "data": {
            "text/plain": [
              "array([[ 0.75424625,  0.23148074],\n",
              "       [-0.75615888,  0.15325888],\n",
              "       [-0.81539193,  0.17328203],\n",
              "       ...,\n",
              "       [-0.13690036, -0.81001183],\n",
              "       [ 0.67036156, -0.76750154],\n",
              "       [ 0.28105665,  0.96382443]])"
            ]
          },
          "metadata": {},
          "execution_count": 49
        }
      ]
    },
    {
      "cell_type": "code",
      "source": [
        "# View the first example of features and labels\n",
        "X_sample = X[0]\n",
        "y_sample = y[0]\n",
        "\n",
        "print(f\"Values for one sample of X: {X_sample} and the same for y: {y_sample}\")\n",
        "print(f\"Shapes for one sample of X: {X_sample.shape} and the same for y: {y_sample.shape}\")"
      ],
      "metadata": {
        "colab": {
          "base_uri": "https://localhost:8080/"
        },
        "id": "yTRPaRgsFSNG",
        "outputId": "eaa4e327-7fff-4dcf-e7d2-e0edbb29b852"
      },
      "execution_count": 50,
      "outputs": [
        {
          "output_type": "stream",
          "name": "stdout",
          "text": [
            "Values for one sample of X: [0.75424625 0.23148074] and the same for y: 1\n",
            "Shapes for one sample of X: (2,) and the same for y: ()\n"
          ]
        }
      ]
    },
    {
      "cell_type": "markdown",
      "source": [
        "## 1.2 Turn data into tensors and create train and test splits"
      ],
      "metadata": {
        "id": "0xFPDOxaFSKy"
      }
    },
    {
      "cell_type": "code",
      "source": [
        "import torch\n",
        "torch.__version__"
      ],
      "metadata": {
        "colab": {
          "base_uri": "https://localhost:8080/",
          "height": 35
        },
        "id": "w1XkxjmdFSIc",
        "outputId": "eecf510e-212f-4e7e-b68b-5a6012ae191c"
      },
      "execution_count": 51,
      "outputs": [
        {
          "output_type": "execute_result",
          "data": {
            "text/plain": [
              "'2.6.0+cu124'"
            ],
            "application/vnd.google.colaboratory.intrinsic+json": {
              "type": "string"
            }
          },
          "metadata": {},
          "execution_count": 51
        }
      ]
    },
    {
      "cell_type": "code",
      "source": [
        "type(X), X.dtype"
      ],
      "metadata": {
        "colab": {
          "base_uri": "https://localhost:8080/"
        },
        "id": "Eh9ewF6GNq9w",
        "outputId": "6791e635-f04d-4063-df63-51750d9e57c0"
      },
      "execution_count": 52,
      "outputs": [
        {
          "output_type": "execute_result",
          "data": {
            "text/plain": [
              "(numpy.ndarray, dtype('float64'))"
            ]
          },
          "metadata": {},
          "execution_count": 52
        }
      ]
    },
    {
      "cell_type": "code",
      "source": [
        "# Turn data into tensors\n",
        "X = torch.from_numpy(X).type(torch.float)\n",
        "y = torch.from_numpy(y).type(torch.float)"
      ],
      "metadata": {
        "id": "slLDPfv_FSGQ"
      },
      "execution_count": 53,
      "outputs": []
    },
    {
      "cell_type": "code",
      "source": [
        "X[:5], y[:5]"
      ],
      "metadata": {
        "colab": {
          "base_uri": "https://localhost:8080/"
        },
        "id": "RfWM_Ln9FSDp",
        "outputId": "68105937-89c3-4afa-ce03-0fe5c56b8758"
      },
      "execution_count": 54,
      "outputs": [
        {
          "output_type": "execute_result",
          "data": {
            "text/plain": [
              "(tensor([[ 0.7542,  0.2315],\n",
              "         [-0.7562,  0.1533],\n",
              "         [-0.8154,  0.1733],\n",
              "         [-0.3937,  0.6929],\n",
              "         [ 0.4422, -0.8967]]),\n",
              " tensor([1., 1., 1., 1., 0.]))"
            ]
          },
          "metadata": {},
          "execution_count": 54
        }
      ]
    },
    {
      "cell_type": "code",
      "source": [
        "type(X), X.dtype, y.dtype"
      ],
      "metadata": {
        "colab": {
          "base_uri": "https://localhost:8080/"
        },
        "id": "z6A8Z9DkFSBI",
        "outputId": "774d3f95-15bc-4807-d544-2967b89fe831"
      },
      "execution_count": 55,
      "outputs": [
        {
          "output_type": "execute_result",
          "data": {
            "text/plain": [
              "(torch.Tensor, torch.float32, torch.float32)"
            ]
          },
          "metadata": {},
          "execution_count": 55
        }
      ]
    },
    {
      "cell_type": "code",
      "source": [
        "# Split data into training and test sets\n",
        "from sklearn.model_selection import train_test_split\n",
        "\n",
        "X_train, X_test, y_train, y_test = train_test_split(X,\n",
        "                                                    y,\n",
        "                                                    test_size = 0.2, # 0.2 = 20% of data will be test, 80% will be train\n",
        "                                                    random_state=42) # same as torch.manual_seed but in scikit learn"
      ],
      "metadata": {
        "id": "saI8cFE2FR_E"
      },
      "execution_count": 56,
      "outputs": []
    },
    {
      "cell_type": "code",
      "source": [
        "len(X_train), len(X_test), len(y_train), len(y_test)"
      ],
      "metadata": {
        "colab": {
          "base_uri": "https://localhost:8080/"
        },
        "id": "ZD-ww9XYOZ5Q",
        "outputId": "ba32fcf2-94c9-49b9-d0c1-ba5631859164"
      },
      "execution_count": 57,
      "outputs": [
        {
          "output_type": "execute_result",
          "data": {
            "text/plain": [
              "(800, 200, 800, 200)"
            ]
          },
          "metadata": {},
          "execution_count": 57
        }
      ]
    },
    {
      "cell_type": "code",
      "source": [
        "n_samples"
      ],
      "metadata": {
        "colab": {
          "base_uri": "https://localhost:8080/"
        },
        "id": "YsBEFp04OZ08",
        "outputId": "85633d43-a040-4a1a-c6a6-1985a42e42a8"
      },
      "execution_count": 58,
      "outputs": [
        {
          "output_type": "execute_result",
          "data": {
            "text/plain": [
              "1000"
            ]
          },
          "metadata": {},
          "execution_count": 58
        }
      ]
    },
    {
      "cell_type": "markdown",
      "source": [
        "## 2. Building a model\n",
        "\n",
        "Let's build a model to classify our blue and red dots.\n",
        "\n",
        "To do so, we want to:\n",
        "1. Setup device agnostic code, so our code will run on an accelerator (GPU) if there is one\n",
        "2. Construct a model (subclassing `nn.Module`)\n",
        "3. Define a loss function and optimizer\n",
        "4. Create a training and test loop"
      ],
      "metadata": {
        "id": "l0aQJ-wJOZyP"
      }
    },
    {
      "cell_type": "code",
      "source": [
        "# Import PyTorch and nn\n",
        "import torch\n",
        "from torch import nn\n",
        "\n",
        "# Make device agnostic code\n",
        "device = \"cuda\" if torch.cuda.is_available() else \"cpu\"\n",
        "device"
      ],
      "metadata": {
        "colab": {
          "base_uri": "https://localhost:8080/",
          "height": 35
        },
        "id": "we4KtjKEOZv2",
        "outputId": "2aa27e33-0a58-4bff-f691-f30a11baddde"
      },
      "execution_count": 59,
      "outputs": [
        {
          "output_type": "execute_result",
          "data": {
            "text/plain": [
              "'cuda'"
            ],
            "application/vnd.google.colaboratory.intrinsic+json": {
              "type": "string"
            }
          },
          "metadata": {},
          "execution_count": 59
        }
      ]
    },
    {
      "cell_type": "code",
      "source": [
        "X_train, X_train.shape"
      ],
      "metadata": {
        "colab": {
          "base_uri": "https://localhost:8080/"
        },
        "id": "7FUq6e_vOZtj",
        "outputId": "7977744d-0299-4b4d-f31f-4d952fbe1116"
      },
      "execution_count": 60,
      "outputs": [
        {
          "output_type": "execute_result",
          "data": {
            "text/plain": [
              "(tensor([[ 0.6579, -0.4651],\n",
              "         [ 0.6319, -0.7347],\n",
              "         [-1.0086, -0.1240],\n",
              "         ...,\n",
              "         [ 0.0157, -1.0300],\n",
              "         [ 1.0110,  0.1680],\n",
              "         [ 0.5578, -0.5709]]),\n",
              " torch.Size([800, 2]))"
            ]
          },
          "metadata": {},
          "execution_count": 60
        }
      ]
    },
    {
      "cell_type": "markdown",
      "source": [
        "Now we've setup device agnostic code, let's create a model that:\n",
        "\n",
        "1. Subclasses `nn.Module` (almost all PyTorch subclass `nn.Module`)\n",
        "2. Create 2 `nn.Linear()` layers that are capable of handing the shapes of our data\n",
        "3. Defines a `forward()` method that outlines the forward pass (or forward computation) of the model\n",
        "4. Instantiate an instance of our model class and send it to the target device"
      ],
      "metadata": {
        "id": "Aagv4xQVOZTF"
      }
    },
    {
      "cell_type": "code",
      "source": [
        "y_train[:5]"
      ],
      "metadata": {
        "colab": {
          "base_uri": "https://localhost:8080/"
        },
        "id": "ennyKkhDR7n9",
        "outputId": "7e23a06e-7ac5-48cd-f624-ff9606a46ab7"
      },
      "execution_count": 61,
      "outputs": [
        {
          "output_type": "execute_result",
          "data": {
            "text/plain": [
              "tensor([1., 0., 0., 0., 1.])"
            ]
          },
          "metadata": {},
          "execution_count": 61
        }
      ]
    },
    {
      "cell_type": "code",
      "source": [
        "# 1. Contrust a model that subclasses nn.Module\n",
        "class CircleModelV1(nn.Module):\n",
        "  def __init__(self):\n",
        "    super().__init__()\n",
        "\n",
        "    #  2. Create 2 nn.Linear() layers capable of handling shapes of our data\n",
        "    self.layer_1 = nn.Linear(in_features=2, out_features=5) # takes in 2 features and upscales to 5 features, more hidden features (out_features) to learn patterns on\n",
        "    self.layer_2 = nn.Linear(in_features=5, out_features=1) # in_features of next layer has to be equivalent to out_feature of previous layer, outputs a single feature(same shape as y)\n",
        "\n",
        "    # self.two_linear_layers = nn.Sequential(\n",
        "    #   nn.Linear(in_features=2, out_features=5),\n",
        "    #   nn.Linear(in_features=5, out_features=1)\n",
        "    # )\n",
        "\n",
        "  # 3. Define forward() method that outlines forward pass, return a tensor\n",
        "  def forward(self, x):\n",
        "    return self.layer_2(self.layer_1(x)) # x -> layer_1 -> layer_2\n",
        "    # return self.two_linear_layers(x)\n",
        "\n",
        "# 4. Instantiate an instance of our model class and send it to the target device\n",
        "model_0 = CircleModelV1().to(device)\n",
        "model_0"
      ],
      "metadata": {
        "colab": {
          "base_uri": "https://localhost:8080/"
        },
        "id": "Urt8EqIJOZQe",
        "outputId": "461da40d-803a-45f5-871a-bfd2b8022a07"
      },
      "execution_count": 62,
      "outputs": [
        {
          "output_type": "execute_result",
          "data": {
            "text/plain": [
              "CircleModelV1(\n",
              "  (layer_1): Linear(in_features=2, out_features=5, bias=True)\n",
              "  (layer_2): Linear(in_features=5, out_features=1, bias=True)\n",
              ")"
            ]
          },
          "metadata": {},
          "execution_count": 62
        }
      ]
    },
    {
      "cell_type": "code",
      "source": [
        "next(model_0.parameters()).device"
      ],
      "metadata": {
        "colab": {
          "base_uri": "https://localhost:8080/"
        },
        "id": "8uwFjZqYOZN0",
        "outputId": "f88a967a-70b6-4700-f4fd-607d201834c3"
      },
      "execution_count": 63,
      "outputs": [
        {
          "output_type": "execute_result",
          "data": {
            "text/plain": [
              "device(type='cuda', index=0)"
            ]
          },
          "metadata": {},
          "execution_count": 63
        }
      ]
    },
    {
      "cell_type": "code",
      "source": [
        "# Let's replicate model above using nn.Sequential()\n",
        "model_0 = nn.Sequential(\n",
        "    nn.Linear(in_features=2, out_features=5),\n",
        "    nn.Linear(in_features=5, out_features=1)\n",
        ").to(device)"
      ],
      "metadata": {
        "id": "QvEdHHXTOZLH"
      },
      "execution_count": 64,
      "outputs": []
    },
    {
      "cell_type": "code",
      "source": [
        "model_0"
      ],
      "metadata": {
        "colab": {
          "base_uri": "https://localhost:8080/"
        },
        "id": "ncuKGjRDOZIc",
        "outputId": "7e81b463-5c92-485b-d6f0-7005a355cb47"
      },
      "execution_count": 65,
      "outputs": [
        {
          "output_type": "execute_result",
          "data": {
            "text/plain": [
              "Sequential(\n",
              "  (0): Linear(in_features=2, out_features=5, bias=True)\n",
              "  (1): Linear(in_features=5, out_features=1, bias=True)\n",
              ")"
            ]
          },
          "metadata": {},
          "execution_count": 65
        }
      ]
    },
    {
      "cell_type": "code",
      "source": [
        "model_0.state_dict()"
      ],
      "metadata": {
        "colab": {
          "base_uri": "https://localhost:8080/"
        },
        "id": "mlyEYHoBOZFr",
        "outputId": "b015cde9-362d-407a-9edf-4e4c78750050"
      },
      "execution_count": 66,
      "outputs": [
        {
          "output_type": "execute_result",
          "data": {
            "text/plain": [
              "OrderedDict([('0.weight',\n",
              "              tensor([[-0.0829, -0.2872],\n",
              "                      [ 0.4691, -0.5582],\n",
              "                      [-0.3260, -0.1997],\n",
              "                      [-0.4252,  0.0667],\n",
              "                      [-0.6984,  0.6386]], device='cuda:0')),\n",
              "             ('0.bias',\n",
              "              tensor([-0.6007,  0.5459,  0.1177, -0.2296,  0.4370], device='cuda:0')),\n",
              "             ('1.weight',\n",
              "              tensor([[ 0.0697,  0.3613,  0.0489, -0.1410,  0.1202]], device='cuda:0')),\n",
              "             ('1.bias', tensor([-0.1213], device='cuda:0'))])"
            ]
          },
          "metadata": {},
          "execution_count": 66
        }
      ]
    },
    {
      "cell_type": "code",
      "source": [
        "# Make predictions\n",
        "with torch.inference_mode():\n",
        "  untrained_preds = model_0(X_test.to(device))\n",
        "print(f\"Length of predictions: {len(untrained_preds)}, Shape: {untrained_preds.shape}\")\n",
        "print(f\"Length of test samples: {len(X_test)}, Shape: {X_test.shape}\")\n",
        "print(f\"\\nFirst 10 predictions:\\n{untrained_preds[:10]}\")\n",
        "print(f\"\\nFirst 10 labels:\\n{y_test[:10]}\")"
      ],
      "metadata": {
        "colab": {
          "base_uri": "https://localhost:8080/"
        },
        "id": "b6qafi_JOZDA",
        "outputId": "3229a9e1-b519-48f2-e669-1a323eae302f"
      },
      "execution_count": 67,
      "outputs": [
        {
          "output_type": "stream",
          "name": "stdout",
          "text": [
            "Length of predictions: 200, Shape: torch.Size([200, 1])\n",
            "Length of test samples: 200, Shape: torch.Size([200, 2])\n",
            "\n",
            "First 10 predictions:\n",
            "tensor([[-0.0338],\n",
            "        [-0.0309],\n",
            "        [ 0.0894],\n",
            "        [-0.0692],\n",
            "        [ 0.2967],\n",
            "        [ 0.2968],\n",
            "        [ 0.1405],\n",
            "        [ 0.2178],\n",
            "        [ 0.0805],\n",
            "        [-0.0284]], device='cuda:0')\n",
            "\n",
            "First 10 labels:\n",
            "tensor([1., 0., 1., 0., 1., 1., 0., 0., 1., 0.])\n"
          ]
        }
      ]
    },
    {
      "cell_type": "code",
      "source": [
        "X_test[:10], y_test[:10]"
      ],
      "metadata": {
        "colab": {
          "base_uri": "https://localhost:8080/"
        },
        "id": "HJDxHrszOZAc",
        "outputId": "adea99b1-4682-48ed-87aa-d1049130aef4"
      },
      "execution_count": 68,
      "outputs": [
        {
          "output_type": "execute_result",
          "data": {
            "text/plain": [
              "(tensor([[-0.3752,  0.6827],\n",
              "         [ 0.0154,  0.9600],\n",
              "         [-0.7028, -0.3147],\n",
              "         [-0.2853,  0.9664],\n",
              "         [ 0.4024, -0.7438],\n",
              "         [ 0.6323, -0.5711],\n",
              "         [ 0.8561,  0.5499],\n",
              "         [ 1.0034,  0.1903],\n",
              "         [-0.7489, -0.2951],\n",
              "         [ 0.0538,  0.9739]]),\n",
              " tensor([1., 0., 1., 0., 1., 1., 0., 0., 1., 0.]))"
            ]
          },
          "metadata": {},
          "execution_count": 68
        }
      ]
    },
    {
      "cell_type": "markdown",
      "source": [
        "### 2.1 Setup loss function and optimizer\n",
        "\n",
        "Which loss function or optimizer should you use?\n",
        "\n",
        "Again... this is problem specific.\n",
        "\n",
        "For example for regression you might want MAE or MSE (mean absolute error or mean squared error).\n",
        "\n",
        "For classification you might want binary cross entropy or categorical cross entropy (cross entropy).\n",
        "\n",
        "As a reminder, the loss function measures how *wrong* your models predictions are.\n",
        "\n",
        "And for optimizers, two of the most common and useful are SGD and Adam, however PyTorch has many built in options.\n",
        "\n",
        "For the loss function we're going to use `torch.nn.BECWithLogitsLoss()`, for more on what binary cross entropy (BCE) is"
      ],
      "metadata": {
        "id": "Pjo3lNxtOY9z"
      }
    },
    {
      "cell_type": "code",
      "source": [
        "# Setup the loss function\n",
        "# loss_fn = nn.BCELoss() # BCELoss = requires inputs to have gone through the sigmoid activation function prior to BCELoss\n",
        "# nn.Sequential(\n",
        "#     nn.Sigmoid(),\n",
        "#     nn.BCELoss\n",
        "# ) => same as BCEWithLogitsLoss()\n",
        "loss_fn = nn.BCEWithLogitsLoss() # BCEWithLogitsLoss = sigmoid activation function built-in\n",
        "\n",
        "optimizer = torch.optim.SGD(params=model_0.parameters(),\n",
        "                            lr=0.1)"
      ],
      "metadata": {
        "id": "Qg7sknwROY7N"
      },
      "execution_count": 69,
      "outputs": []
    },
    {
      "cell_type": "code",
      "source": [
        "# Calculate accuracy - out of 100 examples, what percentage does our model get right?\n",
        "def accuracy_fn(y_true, y_pred):\n",
        "  correct = torch.eq(y_true, y_pred).sum().item()\n",
        "\n",
        "  acc = (correct / len(y_pred)) * 100\n",
        "  return acc"
      ],
      "metadata": {
        "id": "KlGMcyqQOY42"
      },
      "execution_count": 70,
      "outputs": []
    },
    {
      "cell_type": "markdown",
      "source": [
        "## 3. Train model\n",
        "\n",
        "To train our model, we're going to need to build a training loop with the following steps\n",
        "\n",
        "1. Forward pass\n",
        "2. Calculate the loss\n",
        "3. Optimize zero grad\n",
        "4. Loss backward (backpropagation)\n",
        "5. Optimizer step (gradient descent)"
      ],
      "metadata": {
        "id": "GdcVPaCeOY17"
      }
    },
    {
      "cell_type": "markdown",
      "source": [
        "### 3.1 Going from raw logits -> prediction probabilities -> prediction labels\n",
        "\n",
        "Our model outputs are going to be raw **logits**\n",
        "\n",
        "We can convert these **logits** into **prediction probabilities** by passing them to some kind of activation function (e.g. sigmoid for binary crossentropy and softmax for multiclass classification).\n",
        "\n",
        "Then we can convert our model's prediction probabilities to **prediction labels** by either rounding them or taking the `argmax()`."
      ],
      "metadata": {
        "id": "tMGuksIOOY0q"
      }
    },
    {
      "cell_type": "code",
      "source": [
        "# View the first 5 outputs of forward pass on test data\n",
        "model_0.eval()\n",
        "with torch.inference_mode():\n",
        "  y_logits = model_0(X_test.to(device))[:5] # logits are like outputs of our model\n",
        "y_logits"
      ],
      "metadata": {
        "colab": {
          "base_uri": "https://localhost:8080/"
        },
        "id": "fMAf1OZ_OYya",
        "outputId": "b6ea41bf-57be-4c1c-c3d9-f811bf685334"
      },
      "execution_count": 71,
      "outputs": [
        {
          "output_type": "execute_result",
          "data": {
            "text/plain": [
              "tensor([[-0.0338],\n",
              "        [-0.0309],\n",
              "        [ 0.0894],\n",
              "        [-0.0692],\n",
              "        [ 0.2967]], device='cuda:0')"
            ]
          },
          "metadata": {},
          "execution_count": 71
        }
      ]
    },
    {
      "cell_type": "code",
      "source": [
        "y_test[:5]"
      ],
      "metadata": {
        "colab": {
          "base_uri": "https://localhost:8080/"
        },
        "id": "-M3A694MOYwX",
        "outputId": "c0770255-7c0d-4c36-e5aa-9c81f9c56b89"
      },
      "execution_count": 72,
      "outputs": [
        {
          "output_type": "execute_result",
          "data": {
            "text/plain": [
              "tensor([1., 0., 1., 0., 1.])"
            ]
          },
          "metadata": {},
          "execution_count": 72
        }
      ]
    },
    {
      "cell_type": "code",
      "source": [
        "# Use the sigmoid activation function on model logits to turn them into prediction probabilities\n",
        "y_pred_probs = torch.sigmoid(y_logits)\n",
        "y_pred_probs # value between 0 and 1 for how likely our model thinks it is a certain class"
      ],
      "metadata": {
        "colab": {
          "base_uri": "https://localhost:8080/"
        },
        "id": "afsRZI0XOYuH",
        "outputId": "d5663475-fef2-4848-f58f-282fc17edc68"
      },
      "execution_count": 73,
      "outputs": [
        {
          "output_type": "execute_result",
          "data": {
            "text/plain": [
              "tensor([[0.4916],\n",
              "        [0.4923],\n",
              "        [0.5223],\n",
              "        [0.4827],\n",
              "        [0.5736]], device='cuda:0')"
            ]
          },
          "metadata": {},
          "execution_count": 73
        }
      ]
    },
    {
      "cell_type": "markdown",
      "source": [
        "For our prediction probability values, we need to perform a range-style rounding on them:\n",
        "\n",
        "* `y_pred_probs` >= 0.5, `y = 1` (class 1)\n",
        "* `y_pred_probs` < 0.5, `y = 0` (class 0)"
      ],
      "metadata": {
        "id": "f_eB3A7S6b36"
      }
    },
    {
      "cell_type": "code",
      "source": [
        "# Find the predicted labels\n",
        "y_preds = torch.round(y_pred_probs)\n",
        "\n",
        "# In full (logits -> pred probs -> pred labels)\n",
        "y_pred_labels = torch.round(torch.sigmoid(model_0(X_test.to(device))[:5]))\n",
        "\n",
        "# Check for equality\n",
        "print(torch.eq(y_preds.squeeze(), y_pred_labels.squeeze()))\n",
        "\n",
        "# Get rid of extra dimension\n",
        "y_preds.squeeze()"
      ],
      "metadata": {
        "colab": {
          "base_uri": "https://localhost:8080/"
        },
        "id": "Rr_qyvn8OYq4",
        "outputId": "15af844a-a02d-47ec-c7eb-236c6775c231"
      },
      "execution_count": 74,
      "outputs": [
        {
          "output_type": "stream",
          "name": "stdout",
          "text": [
            "tensor([True, True, True, True, True], device='cuda:0')\n"
          ]
        },
        {
          "output_type": "execute_result",
          "data": {
            "text/plain": [
              "tensor([0., 0., 1., 0., 1.], device='cuda:0')"
            ]
          },
          "metadata": {},
          "execution_count": 74
        }
      ]
    },
    {
      "cell_type": "code",
      "source": [
        "y_test[:5]"
      ],
      "metadata": {
        "colab": {
          "base_uri": "https://localhost:8080/"
        },
        "id": "bZeQ145ROYnD",
        "outputId": "53e507f5-6964-471c-aea4-2949873c3eb6"
      },
      "execution_count": 75,
      "outputs": [
        {
          "output_type": "execute_result",
          "data": {
            "text/plain": [
              "tensor([1., 0., 1., 0., 1.])"
            ]
          },
          "metadata": {},
          "execution_count": 75
        }
      ]
    },
    {
      "cell_type": "markdown",
      "source": [
        "### 3.2 Building a training and testing loop"
      ],
      "metadata": {
        "id": "M8kBWj3YFR5T"
      }
    },
    {
      "cell_type": "code",
      "source": [
        "torch.manual_seed(42)\n",
        "torch.cuda.manual_seed(42)\n",
        "\n",
        "# Set the number of epochs\n",
        "epochs = 1000\n",
        "\n",
        "# Put data to target device\n",
        "X_train, y_train = X_train.to(device), y_train.to(device)\n",
        "X_test, y_test = X_test.to(device), y_test.to(device)\n",
        "\n",
        "# Build training and evaluation loop\n",
        "for epoch in range(epochs):\n",
        "  ### Training\n",
        "  model_0.train()\n",
        "\n",
        "  # 1. Forward pass\n",
        "  y_logits = model_0(X_train).squeeze()\n",
        "  y_pred = torch.round(torch.sigmoid(y_logits)) # turn logits -> pred probs -> pred labels\n",
        "\n",
        "  # 2. Calculate loss/accuracy\n",
        "  # loss = loss_fn(torch.sigmoid(y_logits), y_train) # nn.BCELoss expects prediction probabilities as inputs\n",
        "  loss = loss_fn(y_logits,\n",
        "                 y_train) # The loss function is BCEWithLogitsLoss, so we pass in the logits\n",
        "  # accuracy takes the y_pred and true value is the train functions\n",
        "  acc = accuracy_fn(y_true=y_train,\n",
        "                    y_pred=y_pred)\n",
        "\n",
        "  # 3. Optimizer zero grad\n",
        "  optimizer.zero_grad()\n",
        "\n",
        "  # 4. Loss backward (backpropagation)\n",
        "  loss.backward()\n",
        "\n",
        "  # 5. Optimizer step (gradient descent)\n",
        "  optimizer.step()\n",
        "\n",
        "\n",
        "  ### TESTING\n",
        "  model_0.eval()\n",
        "  with torch.inference_mode():\n",
        "    # 1. Forward pass\n",
        "    test_logits = model_0(X_test).squeeze()\n",
        "    test_pred = torch.round(torch.sigmoid(test_logits))\n",
        "\n",
        "    # 2. Calculate the test loss/accuracy\n",
        "    test_loss = loss_fn(test_logits,\n",
        "                        y_test)\n",
        "    test_accuracy = accuracy_fn(y_true=y_test,\n",
        "                                y_pred=test_pred)\n",
        "\n",
        "  # Print out what's happening\n",
        "  if epoch % 10 == 0:\n",
        "    print(f\"Epochs: {epoch} | Loss: {loss:.5f}, Acc: {acc:.2f}% | Test Loss: {test_loss:.5f}, Test acc: {test_accuracy:2f}%\")\n",
        "\n"
      ],
      "metadata": {
        "colab": {
          "base_uri": "https://localhost:8080/"
        },
        "id": "kAGtM6hu7-8-",
        "outputId": "67738e76-a097-4258-9709-dd98ba15c3a1"
      },
      "execution_count": 76,
      "outputs": [
        {
          "output_type": "stream",
          "name": "stdout",
          "text": [
            "Epochs: 0 | Loss: 0.69796, Acc: 51.88% | Test Loss: 0.69440, Test acc: 58.000000%\n",
            "Epochs: 10 | Loss: 0.69590, Acc: 51.25% | Test Loss: 0.69305, Test acc: 53.000000%\n",
            "Epochs: 20 | Loss: 0.69490, Acc: 51.62% | Test Loss: 0.69254, Test acc: 49.500000%\n",
            "Epochs: 30 | Loss: 0.69435, Acc: 51.12% | Test Loss: 0.69236, Test acc: 49.500000%\n",
            "Epochs: 40 | Loss: 0.69401, Acc: 50.88% | Test Loss: 0.69232, Test acc: 51.000000%\n",
            "Epochs: 50 | Loss: 0.69378, Acc: 50.25% | Test Loss: 0.69234, Test acc: 50.000000%\n",
            "Epochs: 60 | Loss: 0.69362, Acc: 50.00% | Test Loss: 0.69239, Test acc: 51.500000%\n",
            "Epochs: 70 | Loss: 0.69351, Acc: 50.25% | Test Loss: 0.69246, Test acc: 51.000000%\n",
            "Epochs: 80 | Loss: 0.69342, Acc: 49.88% | Test Loss: 0.69254, Test acc: 50.000000%\n",
            "Epochs: 90 | Loss: 0.69336, Acc: 49.88% | Test Loss: 0.69262, Test acc: 53.000000%\n",
            "Epochs: 100 | Loss: 0.69331, Acc: 49.25% | Test Loss: 0.69271, Test acc: 53.000000%\n",
            "Epochs: 110 | Loss: 0.69327, Acc: 49.75% | Test Loss: 0.69279, Test acc: 54.000000%\n",
            "Epochs: 120 | Loss: 0.69324, Acc: 50.25% | Test Loss: 0.69286, Test acc: 53.000000%\n",
            "Epochs: 130 | Loss: 0.69321, Acc: 49.75% | Test Loss: 0.69294, Test acc: 55.000000%\n",
            "Epochs: 140 | Loss: 0.69319, Acc: 50.62% | Test Loss: 0.69301, Test acc: 54.000000%\n",
            "Epochs: 150 | Loss: 0.69317, Acc: 52.25% | Test Loss: 0.69307, Test acc: 51.000000%\n",
            "Epochs: 160 | Loss: 0.69315, Acc: 51.38% | Test Loss: 0.69314, Test acc: 56.000000%\n",
            "Epochs: 170 | Loss: 0.69314, Acc: 51.12% | Test Loss: 0.69320, Test acc: 52.000000%\n",
            "Epochs: 180 | Loss: 0.69313, Acc: 51.25% | Test Loss: 0.69325, Test acc: 48.500000%\n",
            "Epochs: 190 | Loss: 0.69311, Acc: 51.00% | Test Loss: 0.69331, Test acc: 50.000000%\n",
            "Epochs: 200 | Loss: 0.69310, Acc: 50.88% | Test Loss: 0.69336, Test acc: 49.000000%\n",
            "Epochs: 210 | Loss: 0.69309, Acc: 50.62% | Test Loss: 0.69341, Test acc: 47.500000%\n",
            "Epochs: 220 | Loss: 0.69309, Acc: 51.12% | Test Loss: 0.69345, Test acc: 47.000000%\n",
            "Epochs: 230 | Loss: 0.69308, Acc: 51.25% | Test Loss: 0.69350, Test acc: 47.500000%\n",
            "Epochs: 240 | Loss: 0.69307, Acc: 51.25% | Test Loss: 0.69354, Test acc: 49.000000%\n",
            "Epochs: 250 | Loss: 0.69306, Acc: 51.12% | Test Loss: 0.69358, Test acc: 48.000000%\n",
            "Epochs: 260 | Loss: 0.69306, Acc: 51.25% | Test Loss: 0.69362, Test acc: 47.000000%\n",
            "Epochs: 270 | Loss: 0.69305, Acc: 51.38% | Test Loss: 0.69366, Test acc: 46.500000%\n",
            "Epochs: 280 | Loss: 0.69305, Acc: 50.88% | Test Loss: 0.69369, Test acc: 46.500000%\n",
            "Epochs: 290 | Loss: 0.69304, Acc: 50.75% | Test Loss: 0.69373, Test acc: 46.500000%\n",
            "Epochs: 300 | Loss: 0.69304, Acc: 51.12% | Test Loss: 0.69376, Test acc: 46.500000%\n",
            "Epochs: 310 | Loss: 0.69303, Acc: 50.88% | Test Loss: 0.69379, Test acc: 47.500000%\n",
            "Epochs: 320 | Loss: 0.69303, Acc: 51.12% | Test Loss: 0.69382, Test acc: 47.000000%\n",
            "Epochs: 330 | Loss: 0.69303, Acc: 51.25% | Test Loss: 0.69385, Test acc: 47.500000%\n",
            "Epochs: 340 | Loss: 0.69302, Acc: 51.00% | Test Loss: 0.69388, Test acc: 47.000000%\n",
            "Epochs: 350 | Loss: 0.69302, Acc: 51.00% | Test Loss: 0.69391, Test acc: 46.000000%\n",
            "Epochs: 360 | Loss: 0.69302, Acc: 50.75% | Test Loss: 0.69394, Test acc: 46.000000%\n",
            "Epochs: 370 | Loss: 0.69301, Acc: 50.75% | Test Loss: 0.69396, Test acc: 47.000000%\n",
            "Epochs: 380 | Loss: 0.69301, Acc: 51.38% | Test Loss: 0.69399, Test acc: 47.500000%\n",
            "Epochs: 390 | Loss: 0.69301, Acc: 51.25% | Test Loss: 0.69401, Test acc: 47.500000%\n",
            "Epochs: 400 | Loss: 0.69301, Acc: 51.25% | Test Loss: 0.69403, Test acc: 47.500000%\n",
            "Epochs: 410 | Loss: 0.69301, Acc: 51.50% | Test Loss: 0.69406, Test acc: 47.500000%\n",
            "Epochs: 420 | Loss: 0.69300, Acc: 51.62% | Test Loss: 0.69408, Test acc: 47.500000%\n",
            "Epochs: 430 | Loss: 0.69300, Acc: 51.25% | Test Loss: 0.69410, Test acc: 47.500000%\n",
            "Epochs: 440 | Loss: 0.69300, Acc: 51.25% | Test Loss: 0.69412, Test acc: 47.500000%\n",
            "Epochs: 450 | Loss: 0.69300, Acc: 50.88% | Test Loss: 0.69414, Test acc: 47.000000%\n",
            "Epochs: 460 | Loss: 0.69300, Acc: 51.00% | Test Loss: 0.69416, Test acc: 47.000000%\n",
            "Epochs: 470 | Loss: 0.69300, Acc: 51.00% | Test Loss: 0.69418, Test acc: 47.000000%\n",
            "Epochs: 480 | Loss: 0.69300, Acc: 51.00% | Test Loss: 0.69419, Test acc: 47.000000%\n",
            "Epochs: 490 | Loss: 0.69299, Acc: 51.12% | Test Loss: 0.69421, Test acc: 47.000000%\n",
            "Epochs: 500 | Loss: 0.69299, Acc: 50.88% | Test Loss: 0.69423, Test acc: 47.000000%\n",
            "Epochs: 510 | Loss: 0.69299, Acc: 51.00% | Test Loss: 0.69424, Test acc: 47.000000%\n",
            "Epochs: 520 | Loss: 0.69299, Acc: 51.12% | Test Loss: 0.69426, Test acc: 47.000000%\n",
            "Epochs: 530 | Loss: 0.69299, Acc: 51.25% | Test Loss: 0.69427, Test acc: 46.500000%\n",
            "Epochs: 540 | Loss: 0.69299, Acc: 51.12% | Test Loss: 0.69429, Test acc: 46.500000%\n",
            "Epochs: 550 | Loss: 0.69299, Acc: 50.88% | Test Loss: 0.69430, Test acc: 46.500000%\n",
            "Epochs: 560 | Loss: 0.69299, Acc: 50.88% | Test Loss: 0.69432, Test acc: 46.500000%\n",
            "Epochs: 570 | Loss: 0.69299, Acc: 50.88% | Test Loss: 0.69433, Test acc: 46.500000%\n",
            "Epochs: 580 | Loss: 0.69299, Acc: 50.88% | Test Loss: 0.69434, Test acc: 47.000000%\n",
            "Epochs: 590 | Loss: 0.69299, Acc: 51.00% | Test Loss: 0.69435, Test acc: 46.500000%\n",
            "Epochs: 600 | Loss: 0.69299, Acc: 51.25% | Test Loss: 0.69436, Test acc: 46.500000%\n",
            "Epochs: 610 | Loss: 0.69299, Acc: 51.12% | Test Loss: 0.69438, Test acc: 46.500000%\n",
            "Epochs: 620 | Loss: 0.69299, Acc: 51.25% | Test Loss: 0.69439, Test acc: 46.500000%\n",
            "Epochs: 630 | Loss: 0.69298, Acc: 51.25% | Test Loss: 0.69440, Test acc: 46.000000%\n",
            "Epochs: 640 | Loss: 0.69298, Acc: 51.25% | Test Loss: 0.69441, Test acc: 46.000000%\n",
            "Epochs: 650 | Loss: 0.69298, Acc: 51.25% | Test Loss: 0.69442, Test acc: 46.000000%\n",
            "Epochs: 660 | Loss: 0.69298, Acc: 51.25% | Test Loss: 0.69443, Test acc: 46.000000%\n",
            "Epochs: 670 | Loss: 0.69298, Acc: 51.25% | Test Loss: 0.69444, Test acc: 46.000000%\n",
            "Epochs: 680 | Loss: 0.69298, Acc: 51.25% | Test Loss: 0.69444, Test acc: 46.000000%\n",
            "Epochs: 690 | Loss: 0.69298, Acc: 51.38% | Test Loss: 0.69445, Test acc: 46.000000%\n",
            "Epochs: 700 | Loss: 0.69298, Acc: 51.25% | Test Loss: 0.69446, Test acc: 46.000000%\n",
            "Epochs: 710 | Loss: 0.69298, Acc: 51.25% | Test Loss: 0.69447, Test acc: 46.000000%\n",
            "Epochs: 720 | Loss: 0.69298, Acc: 51.38% | Test Loss: 0.69448, Test acc: 46.000000%\n",
            "Epochs: 730 | Loss: 0.69298, Acc: 51.25% | Test Loss: 0.69448, Test acc: 46.000000%\n",
            "Epochs: 740 | Loss: 0.69298, Acc: 51.25% | Test Loss: 0.69449, Test acc: 46.000000%\n",
            "Epochs: 750 | Loss: 0.69298, Acc: 51.25% | Test Loss: 0.69450, Test acc: 46.000000%\n",
            "Epochs: 760 | Loss: 0.69298, Acc: 51.38% | Test Loss: 0.69450, Test acc: 46.000000%\n",
            "Epochs: 770 | Loss: 0.69298, Acc: 51.38% | Test Loss: 0.69451, Test acc: 46.000000%\n",
            "Epochs: 780 | Loss: 0.69298, Acc: 51.38% | Test Loss: 0.69452, Test acc: 46.000000%\n",
            "Epochs: 790 | Loss: 0.69298, Acc: 51.50% | Test Loss: 0.69452, Test acc: 45.500000%\n",
            "Epochs: 800 | Loss: 0.69298, Acc: 51.50% | Test Loss: 0.69453, Test acc: 45.500000%\n",
            "Epochs: 810 | Loss: 0.69298, Acc: 51.50% | Test Loss: 0.69453, Test acc: 45.500000%\n",
            "Epochs: 820 | Loss: 0.69298, Acc: 51.50% | Test Loss: 0.69454, Test acc: 45.000000%\n",
            "Epochs: 830 | Loss: 0.69298, Acc: 51.50% | Test Loss: 0.69454, Test acc: 45.000000%\n",
            "Epochs: 840 | Loss: 0.69298, Acc: 51.62% | Test Loss: 0.69455, Test acc: 45.000000%\n",
            "Epochs: 850 | Loss: 0.69298, Acc: 51.62% | Test Loss: 0.69455, Test acc: 45.000000%\n",
            "Epochs: 860 | Loss: 0.69298, Acc: 51.62% | Test Loss: 0.69456, Test acc: 45.000000%\n",
            "Epochs: 870 | Loss: 0.69298, Acc: 51.62% | Test Loss: 0.69456, Test acc: 45.000000%\n",
            "Epochs: 880 | Loss: 0.69298, Acc: 51.50% | Test Loss: 0.69457, Test acc: 45.000000%\n",
            "Epochs: 890 | Loss: 0.69298, Acc: 51.38% | Test Loss: 0.69457, Test acc: 45.000000%\n",
            "Epochs: 900 | Loss: 0.69298, Acc: 51.38% | Test Loss: 0.69458, Test acc: 45.000000%\n",
            "Epochs: 910 | Loss: 0.69298, Acc: 51.38% | Test Loss: 0.69458, Test acc: 45.000000%\n",
            "Epochs: 920 | Loss: 0.69298, Acc: 51.38% | Test Loss: 0.69458, Test acc: 45.000000%\n",
            "Epochs: 930 | Loss: 0.69298, Acc: 51.38% | Test Loss: 0.69459, Test acc: 45.000000%\n",
            "Epochs: 940 | Loss: 0.69298, Acc: 51.38% | Test Loss: 0.69459, Test acc: 45.000000%\n",
            "Epochs: 950 | Loss: 0.69298, Acc: 51.62% | Test Loss: 0.69459, Test acc: 45.000000%\n",
            "Epochs: 960 | Loss: 0.69298, Acc: 51.62% | Test Loss: 0.69460, Test acc: 45.000000%\n",
            "Epochs: 970 | Loss: 0.69298, Acc: 51.62% | Test Loss: 0.69460, Test acc: 45.000000%\n",
            "Epochs: 980 | Loss: 0.69298, Acc: 51.62% | Test Loss: 0.69460, Test acc: 45.000000%\n",
            "Epochs: 990 | Loss: 0.69298, Acc: 51.38% | Test Loss: 0.69460, Test acc: 45.000000%\n"
          ]
        }
      ]
    },
    {
      "cell_type": "markdown",
      "source": [
        "## 4. Make predictions and evaluate the model\n",
        "\n",
        "From the metrics it looks like our model isn't learning anything...\n",
        "\n",
        "So to inspect it let's make some predictions and make them visual!\n",
        "\n",
        "In other words, \"Visualize, visualize, visualize!\"\n",
        "\n",
        "To do so, we're going to import a function called `plot_decision_boundary()`"
      ],
      "metadata": {
        "id": "dUSL-9Vb7-4Y"
      }
    },
    {
      "cell_type": "code",
      "source": [
        "import requests\n",
        "from pathlib import Path\n",
        "\n",
        "# Download helper functions from Learn PyTorch repo (if it's not already downloaded)\n",
        "if Path(\"helper_functions.py\").is_file():\n",
        "  print(\"helper_functions.py already exists, skipping download\")\n",
        "# if it doesn't exist, we get the contents of the url, then write contents of the request\n",
        "else:\n",
        "  print(\"Download helper_functions.py\")\n",
        "  request = requests.get(\"https://raw.githubusercontent.com/mrdbourke/pytorch-deep-learning/refs/heads/main/helper_functions.py\")\n",
        "  with open(\"helper_functions.py\", \"wb\") as f:\n",
        "    f.write(request.content)\n",
        "\n",
        "from helper_functions import plot_predictions, plot_decision_boundary"
      ],
      "metadata": {
        "colab": {
          "base_uri": "https://localhost:8080/"
        },
        "id": "p7i3JNjy7-1N",
        "outputId": "841a03a1-f63a-4172-c355-e3f239d3172d"
      },
      "execution_count": 77,
      "outputs": [
        {
          "output_type": "stream",
          "name": "stdout",
          "text": [
            "helper_functions.py already exists, skipping download\n"
          ]
        }
      ]
    },
    {
      "cell_type": "code",
      "source": [
        "# Plot decision boundary of the model\n",
        "plt.figure(figsize=(12, 6))\n",
        "plt.subplot(1, 2, 1)\n",
        "plt.title(\"Train\")\n",
        "plot_decision_boundary(model_0, X_train, y_train)\n",
        "\n",
        "plt.subplot(1, 2, 2)\n",
        "plt.title(\"Test\")\n",
        "plot_decision_boundary(model_0, X_test, y_test)"
      ],
      "metadata": {
        "colab": {
          "base_uri": "https://localhost:8080/",
          "height": 545
        },
        "id": "DKE1uBsZ7-yU",
        "outputId": "7778109f-6969-4556-8e5e-8eb6a96b212c"
      },
      "execution_count": 78,
      "outputs": [
        {
          "output_type": "display_data",
          "data": {
            "text/plain": [
              "<Figure size 1200x600 with 2 Axes>"
            ],
            "image/png": "[encoded data removed]"
          },
          "metadata": {}
        }
      ]
    },
    {
      "cell_type": "code",
      "source": [],
      "metadata": {
        "id": "G7BTO6as7-vY"
      },
      "execution_count": 78,
      "outputs": []
    },
    {
      "cell_type": "code",
      "source": [],
      "metadata": {
        "id": "jfW-3xVz7-sU"
      },
      "execution_count": 78,
      "outputs": []
    },
    {
      "cell_type": "code",
      "source": [],
      "metadata": {
        "id": "6qRpv2n07-pI"
      },
      "execution_count": 78,
      "outputs": []
    },
    {
      "cell_type": "code",
      "source": [],
      "metadata": {
        "id": "VKuy6NKD7-lv"
      },
      "execution_count": 78,
      "outputs": []
    },
    {
      "cell_type": "code",
      "source": [],
      "metadata": {
        "id": "N70gTj387-fJ"
      },
      "execution_count": 78,
      "outputs": []
    }
  ]
}