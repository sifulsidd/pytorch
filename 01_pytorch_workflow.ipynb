{
  "nbformat": 4,
  "nbformat_minor": 0,
  "metadata": {
    "colab": {
      "provenance": [],
      "authorship_tag": "ABX9TyPHNn5VeXqiAk3ss0odrm+c",
      "include_colab_link": true
    },
    "kernelspec": {
      "name": "python3",
      "display_name": "Python 3"
    },
    "language_info": {
      "name": "python"
    }
  },
  "cells": [
    {
      "cell_type": "markdown",
      "metadata": {
        "id": "view-in-github",
        "colab_type": "text"
      },
      "source": [
        "<a href=\"https://colab.research.google.com/github/sifulsidd/pytorch/blob/master/01_pytorch_workflow.ipynb\" target=\"_parent\"><img src=\"https://colab.research.google.com/assets/colab-badge.svg\" alt=\"Open In Colab\"/></a>"
      ]
    },
    {
      "cell_type": "markdown",
      "source": [
        "# PyTorch Workflow\n",
        "\n",
        "Let's explore an example of an end-to-end workflow\n",
        "\n",
        "Resources:\n",
        "* Ground truth notebook - https://github.com/mrdbourke/pytorch-deep-learning/blob/main/01_pytorch_workflow.ipynb\n",
        "* Book version - https://www.learnpytorch.io/01_pytorch_workflow/"
      ],
      "metadata": {
        "id": "GkdCG6QEAjxX"
      }
    },
    {
      "cell_type": "code",
      "source": [
        "what_were_covering = {1: \"data (prepare and load)\",\n",
        "                      2: \"build model\",\n",
        "                      3: \"fitting the model to data (training)\",\n",
        "                      4: \"making predictions and evaluating a model (inference)\",\n",
        "                      5: \"saving and loading a model\",\n",
        "                      6: \"putting it all together\" }\n",
        "\n",
        "what_were_covering"
      ],
      "metadata": {
        "colab": {
          "base_uri": "https://localhost:8080/"
        },
        "id": "Z8xqWsRfB3u7",
        "outputId": "831885e5-1198-4097-a395-133f8a5f4e86"
      },
      "execution_count": 22,
      "outputs": [
        {
          "output_type": "execute_result",
          "data": {
            "text/plain": [
              "{1: 'data (prepare and load)',\n",
              " 2: 'build model',\n",
              " 3: 'fitting the model to data (training)',\n",
              " 4: 'making predictions and evaluating a model (inference)',\n",
              " 5: 'saving and loading a model',\n",
              " 6: 'putting it all together'}"
            ]
          },
          "metadata": {},
          "execution_count": 22
        }
      ]
    },
    {
      "cell_type": "code",
      "source": [
        "import torch\n",
        "from torch import nn # nn contains all of PyTorch building blocks for neural networks\n",
        "import matplotlib.pyplot as plt\n",
        "\n",
        "# Check PyTorch version\n",
        "torch.__version__"
      ],
      "metadata": {
        "colab": {
          "base_uri": "https://localhost:8080/",
          "height": 35
        },
        "id": "jI5I3EMcD4RQ",
        "outputId": "7c4f748b-af85-4a63-82a0-ba4c300294c5"
      },
      "execution_count": 23,
      "outputs": [
        {
          "output_type": "execute_result",
          "data": {
            "text/plain": [
              "'2.6.0+cu124'"
            ],
            "application/vnd.google.colaboratory.intrinsic+json": {
              "type": "string"
            }
          },
          "metadata": {},
          "execution_count": 23
        }
      ]
    },
    {
      "cell_type": "markdown",
      "source": [
        "## 1. Data (preparing and loading)\n",
        "\n",
        "Data can be almost anything... in machine learning.\n",
        "\n",
        "* Excel spreadsheet\n",
        "* Images of any kind\n",
        "* Videos (YouTube)\n",
        "* Audio like songs or podcasts\n",
        "* DNA\n",
        "* Text\n",
        "\n",
        "Machine learning is a game of two parts:\n",
        "1. Get data into a numerical representation\n",
        "2. Build a model to learn patterns in that numerical representation\n",
        "\n",
        "To showcase this, let's create some *known* data using the linear regression formula\n",
        "\n",
        "- y = mx + b -> m is gradient/slope\n",
        "\n",
        "We'll use a linear regression formula to make a straight line with *known* **parameters**"
      ],
      "metadata": {
        "id": "WGNO83MroKUw"
      }
    },
    {
      "cell_type": "code",
      "source": [
        "# Create *known* parameters\n",
        "weight = 0.7 # m\n",
        "bias = 0.3 # a\n",
        "\n",
        "# Create\n",
        "start = 0\n",
        "end = 1\n",
        "step = 0.02\n",
        "X = torch.arange(start, end, step).unsqueeze(dim = 1)\n",
        "# y = mx + b\n",
        "y = weight * X + bias\n",
        "\n",
        "X[:10], y[:10]"
      ],
      "metadata": {
        "colab": {
          "base_uri": "https://localhost:8080/"
        },
        "id": "Ml3v1w3Yole3",
        "outputId": "11eb1279-2a76-4bd1-e6dd-4c8963ee3bc9"
      },
      "execution_count": 24,
      "outputs": [
        {
          "output_type": "execute_result",
          "data": {
            "text/plain": [
              "(tensor([[0.0000],\n",
              "         [0.0200],\n",
              "         [0.0400],\n",
              "         [0.0600],\n",
              "         [0.0800],\n",
              "         [0.1000],\n",
              "         [0.1200],\n",
              "         [0.1400],\n",
              "         [0.1600],\n",
              "         [0.1800]]),\n",
              " tensor([[0.3000],\n",
              "         [0.3140],\n",
              "         [0.3280],\n",
              "         [0.3420],\n",
              "         [0.3560],\n",
              "         [0.3700],\n",
              "         [0.3840],\n",
              "         [0.3980],\n",
              "         [0.4120],\n",
              "         [0.4260]]))"
            ]
          },
          "metadata": {},
          "execution_count": 24
        }
      ]
    },
    {
      "cell_type": "code",
      "source": [
        "len(X), len(y)"
      ],
      "metadata": {
        "colab": {
          "base_uri": "https://localhost:8080/"
        },
        "id": "uqq9PatDqaXY",
        "outputId": "d01a752c-c7dd-4ac1-a6b6-051616f83bb0"
      },
      "execution_count": 25,
      "outputs": [
        {
          "output_type": "execute_result",
          "data": {
            "text/plain": [
              "(50, 50)"
            ]
          },
          "metadata": {},
          "execution_count": 25
        }
      ]
    },
    {
      "cell_type": "markdown",
      "source": [
        "### Splitting data into training and test sets (one of the most important concepts in machine leaning in general)\n",
        "\n",
        "Let's create a training and test set with out data"
      ],
      "metadata": {
        "id": "ZIOzPCmDqyYL"
      }
    },
    {
      "cell_type": "code",
      "source": [
        "# Create a train/test split\n",
        "train_split = int(0.8 * len(X))\n",
        "print(train_split)\n",
        "X_train, y_train = X[:train_split], y[:train_split]\n",
        "X_test, y_test = X[train_split:], y[train_split:]\n",
        "\n",
        "len(X_train), len(y_train), len(X_test), len(y_test)"
      ],
      "metadata": {
        "colab": {
          "base_uri": "https://localhost:8080/"
        },
        "id": "ptrCjEU6AIoz",
        "outputId": "3706aebe-7bc8-4d44-b1fd-ef207ecb93d2"
      },
      "execution_count": 26,
      "outputs": [
        {
          "output_type": "stream",
          "name": "stdout",
          "text": [
            "40\n"
          ]
        },
        {
          "output_type": "execute_result",
          "data": {
            "text/plain": [
              "(40, 40, 10, 10)"
            ]
          },
          "metadata": {},
          "execution_count": 26
        }
      ]
    },
    {
      "cell_type": "code",
      "source": [
        "X_train, y_train"
      ],
      "metadata": {
        "colab": {
          "base_uri": "https://localhost:8080/"
        },
        "id": "ZDQ2QjrKASt9",
        "outputId": "3f2ed77f-f32e-4944-b3c3-d820275fe75b"
      },
      "execution_count": 27,
      "outputs": [
        {
          "output_type": "execute_result",
          "data": {
            "text/plain": [
              "(tensor([[0.0000],\n",
              "         [0.0200],\n",
              "         [0.0400],\n",
              "         [0.0600],\n",
              "         [0.0800],\n",
              "         [0.1000],\n",
              "         [0.1200],\n",
              "         [0.1400],\n",
              "         [0.1600],\n",
              "         [0.1800],\n",
              "         [0.2000],\n",
              "         [0.2200],\n",
              "         [0.2400],\n",
              "         [0.2600],\n",
              "         [0.2800],\n",
              "         [0.3000],\n",
              "         [0.3200],\n",
              "         [0.3400],\n",
              "         [0.3600],\n",
              "         [0.3800],\n",
              "         [0.4000],\n",
              "         [0.4200],\n",
              "         [0.4400],\n",
              "         [0.4600],\n",
              "         [0.4800],\n",
              "         [0.5000],\n",
              "         [0.5200],\n",
              "         [0.5400],\n",
              "         [0.5600],\n",
              "         [0.5800],\n",
              "         [0.6000],\n",
              "         [0.6200],\n",
              "         [0.6400],\n",
              "         [0.6600],\n",
              "         [0.6800],\n",
              "         [0.7000],\n",
              "         [0.7200],\n",
              "         [0.7400],\n",
              "         [0.7600],\n",
              "         [0.7800]]),\n",
              " tensor([[0.3000],\n",
              "         [0.3140],\n",
              "         [0.3280],\n",
              "         [0.3420],\n",
              "         [0.3560],\n",
              "         [0.3700],\n",
              "         [0.3840],\n",
              "         [0.3980],\n",
              "         [0.4120],\n",
              "         [0.4260],\n",
              "         [0.4400],\n",
              "         [0.4540],\n",
              "         [0.4680],\n",
              "         [0.4820],\n",
              "         [0.4960],\n",
              "         [0.5100],\n",
              "         [0.5240],\n",
              "         [0.5380],\n",
              "         [0.5520],\n",
              "         [0.5660],\n",
              "         [0.5800],\n",
              "         [0.5940],\n",
              "         [0.6080],\n",
              "         [0.6220],\n",
              "         [0.6360],\n",
              "         [0.6500],\n",
              "         [0.6640],\n",
              "         [0.6780],\n",
              "         [0.6920],\n",
              "         [0.7060],\n",
              "         [0.7200],\n",
              "         [0.7340],\n",
              "         [0.7480],\n",
              "         [0.7620],\n",
              "         [0.7760],\n",
              "         [0.7900],\n",
              "         [0.8040],\n",
              "         [0.8180],\n",
              "         [0.8320],\n",
              "         [0.8460]]))"
            ]
          },
          "metadata": {},
          "execution_count": 27
        }
      ]
    },
    {
      "cell_type": "markdown",
      "source": [
        "How might we better visualize our data?\n",
        "\n",
        "This is where the data explorer's motto comes in!\n",
        "\n",
        "\"Visualize, visualize, visualize\""
      ],
      "metadata": {
        "id": "swtjIp3JA9nL"
      }
    },
    {
      "cell_type": "code",
      "source": [
        "def plot_predictions(train_data=X_train,\n",
        "                     train_labels=y_train,\n",
        "                     test_data=X_test,\n",
        "                     test_labels=y_test,\n",
        "                     predictions=None):\n",
        "  \"\"\"\n",
        "  Plots training data, test data and compares predictions.\n",
        "  \"\"\"\n",
        "  plt.figure(figsize=(10, 7))\n",
        "\n",
        "  # Plot training data in blue\n",
        "  plt.scatter(train_data, train_labels, c=\"b\", s=4, label=\"Training data\")\n",
        "\n",
        "  # Plot test data in green\n",
        "  plt.scatter(test_data, test_labels, c=\"g\", s=4, label=\"Testing data\")\n",
        "\n",
        "  # Are there predictions?\n",
        "  if predictions is not None:\n",
        "    # Plot the predictions if they exist, predictions will be based on testing data labels\n",
        "    plt.scatter(test_data, predictions, c=\"r\", s=4, label=\"Predictions\")\n",
        "\n",
        "  # show the legend\n",
        "  plt.legend(prop={\"size\":14})"
      ],
      "metadata": {
        "id": "G76S9MCLBeXn"
      },
      "execution_count": 28,
      "outputs": []
    },
    {
      "cell_type": "code",
      "source": [
        "plot_predictions()"
      ],
      "metadata": {
        "colab": {
          "base_uri": "https://localhost:8080/",
          "height": 599
        },
        "id": "pwQxJiw4Caaz",
        "outputId": "11ffc818-a23f-426f-cafc-b70a318e5c1f"
      },
      "execution_count": 29,
      "outputs": [
        {
          "output_type": "display_data",
          "data": {
            "text/plain": [
              "<Figure size 1000x700 with 1 Axes>"
            ],
            "image/png": "[encoded data removed]"
          },
          "metadata": {}
        }
      ]
    },
    {
      "cell_type": "markdown",
      "source": [
        "## 2. Build model\n",
        "\n",
        "Our first PyTorch model\n",
        "\n",
        "This is very exciting... let's do it\n",
        "\n",
        "What our model does:\n",
        "* start with random values (weight & bias)\n",
        "* look at training data and adjust the random values to better represent (or get closer to) the ideal values (the weight & bias values we use to create the data)\n",
        "\n",
        "How does it do so?\n",
        "\n",
        "Through two main algorithms:\n",
        "1. Gradient descent (why we have requires_grad = True)\n",
        "2. Backpropagation"
      ],
      "metadata": {
        "id": "PHmVlahiDEF2"
      }
    },
    {
      "cell_type": "code",
      "source": [
        "from torch import nn\n",
        "\n",
        "# Model whole goal is to start with random data, and update those random numbers to represent the pattern from above or the known parameters above\n",
        "# Create linear regression model class\n",
        "class LinearRegressionModel(nn.Module): # almost everything in PyTorch inherits from nn.Module, all the building blocks for neural networks\n",
        "  def __init__(self):\n",
        "    super().__init__()\n",
        "\n",
        "    # Initialize model parameters to be used in various computations (could be different layers from torch.nn, single params, hard-coded values or function)\n",
        "    self.weights = nn.Parameter(torch.randn(1, # <- start with a random weight and try to adjust to ideal weight\n",
        "                                            requires_grad=True, # <- can this parameter be updated via gradient descent?\n",
        "                                            dtype=torch.float)) # <- pytorch loves this data type\n",
        "    self.bias = nn.Parameter(torch.randn(1, # <- start with random bias and try to update to ideal one\n",
        "                                         requires_grad=True,\n",
        "                                         dtype=torch.float))\n",
        "    # requires_grad=True means PyTorch will track all the gradients of a specific parameter for use with torch.autograd and gradient descent\n",
        "\n",
        "\n",
        "  # Forward method to define the computation in the model\n",
        "  # forward method computation performed at every call, operation that module does\n",
        "  def forward(self, x: torch.Tensor) -> torch.Tensor: # x is the input data\n",
        "    return self.weights * x + self.bias # linear regression formula (y = mx + b)\n"
      ],
      "metadata": {
        "id": "ubkquvBa_Ji7"
      },
      "execution_count": 30,
      "outputs": []
    },
    {
      "cell_type": "markdown",
      "source": [
        "### PyTorch model building essentials\n",
        "\n",
        "* torch.nn - contains all of the building blocks for computational graphs (neural network can be considered a computational graph)\n",
        "* torch.nn.Parameter - what parameters should our model try and learn, often PyTorch layer from torch.nn will set these for us\n",
        "* torch.nn.Module - base class for all neural network modules, if you subclass it, you should overwrite forward()\n",
        "* torch.optim - this is where optimizers in PyTorch live, they will help with gradient descent, how to best change to improve gradient descent and in turn reduce the loss\n",
        "* def forward() - all nn.Module subclasses require you to overwrite forward(), this method defines what happens in the forward computation\n",
        "\n",
        "To get data ready:\n",
        "* torchvision.transforms\n",
        "* torch.utils.data.Dataset\n",
        "* torch.utils.data.DataLoader\n",
        "\n",
        "Build or pick a model:\n",
        "* torch.nn\n",
        "* torch.nn.Module\n",
        "* torchvision.models\n",
        "\n",
        "Optimize our functions parameters:\n",
        "* torch.optim\n",
        "\n",
        "Evaluate our model:\n",
        "* torchmetrics\n",
        "\n",
        "Improve through experimentation:\n",
        "* torch.utils.tensorboard\n",
        "\n"
      ],
      "metadata": {
        "id": "4cO_-iLIN3wD"
      }
    },
    {
      "cell_type": "markdown",
      "source": [
        "### Checking the contents of our PyTorch model\n",
        "\n",
        "Now we've created a model, let's see what's inside...\n",
        "\n",
        "So we can check our model parameters or what's inside our model using `.parameters()`"
      ],
      "metadata": {
        "id": "yXtYQH1zWXmA"
      }
    },
    {
      "cell_type": "code",
      "source": [
        "# Create a random seed, because we are creating parameters with random values and we want reproducible results\n",
        "# torch.manual_seed(42)\n",
        "\n",
        "# # Create an instance of model (this is a subclass of nn.Module)\n",
        "# model_0 = LinearRegressionModel()\n",
        "\n",
        "# Check out the parameters\n",
        "# list(model_0.parameters())"
      ],
      "metadata": {
        "id": "Du1Usb0yXkIi"
      },
      "execution_count": 31,
      "outputs": []
    },
    {
      "cell_type": "code",
      "source": [
        "torch.manual_seed(42)\n",
        "model_0 = LinearRegressionModel()\n",
        "# List named parameters\n",
        "model_0.state_dict()"
      ],
      "metadata": {
        "colab": {
          "base_uri": "https://localhost:8080/"
        },
        "id": "2_7NMxjOX4dU",
        "outputId": "d1210f75-943a-4d91-b79b-f45ec6eda02c"
      },
      "execution_count": 32,
      "outputs": [
        {
          "output_type": "execute_result",
          "data": {
            "text/plain": [
              "OrderedDict([('weights', tensor([0.3367])), ('bias', tensor([0.1288]))])"
            ]
          },
          "metadata": {},
          "execution_count": 32
        }
      ]
    },
    {
      "cell_type": "markdown",
      "source": [
        "### Making prediction using `torch.inference_mode()`\n",
        "\n",
        "To check our model's predictive power, let's see how well it predicts `y_test` based on `X_test`\n",
        "\n",
        "When we pass data through our model, it's going to run it through the `forward()` method"
      ],
      "metadata": {
        "id": "nwbjXVNJYrS4"
      }
    },
    {
      "cell_type": "code",
      "source": [
        "X_test, y_test"
      ],
      "metadata": {
        "colab": {
          "base_uri": "https://localhost:8080/"
        },
        "id": "nqv6vWINpoTm",
        "outputId": "cc637fd1-a059-4aaf-dc7f-bdd6eeee983e"
      },
      "execution_count": 33,
      "outputs": [
        {
          "output_type": "execute_result",
          "data": {
            "text/plain": [
              "(tensor([[0.8000],\n",
              "         [0.8200],\n",
              "         [0.8400],\n",
              "         [0.8600],\n",
              "         [0.8800],\n",
              "         [0.9000],\n",
              "         [0.9200],\n",
              "         [0.9400],\n",
              "         [0.9600],\n",
              "         [0.9800]]),\n",
              " tensor([[0.8600],\n",
              "         [0.8740],\n",
              "         [0.8880],\n",
              "         [0.9020],\n",
              "         [0.9160],\n",
              "         [0.9300],\n",
              "         [0.9440],\n",
              "         [0.9580],\n",
              "         [0.9720],\n",
              "         [0.9860]]))"
            ]
          },
          "metadata": {},
          "execution_count": 33
        }
      ]
    },
    {
      "cell_type": "code",
      "source": [
        "# Make predictions with model, use inference_mode for predictions\n",
        "with torch.inference_mode():\n",
        "  y_preds = model_0(X_test)\n",
        "\n",
        "y_preds"
      ],
      "metadata": {
        "colab": {
          "base_uri": "https://localhost:8080/"
        },
        "id": "BeUedOLUY2xU",
        "outputId": "061fa278-c4f8-4408-d0df-c21ea11098a7"
      },
      "execution_count": 34,
      "outputs": [
        {
          "output_type": "execute_result",
          "data": {
            "text/plain": [
              "tensor([[0.3982],\n",
              "        [0.4049],\n",
              "        [0.4116],\n",
              "        [0.4184],\n",
              "        [0.4251],\n",
              "        [0.4318],\n",
              "        [0.4386],\n",
              "        [0.4453],\n",
              "        [0.4520],\n",
              "        [0.4588]])"
            ]
          },
          "metadata": {},
          "execution_count": 34
        }
      ]
    },
    {
      "cell_type": "code",
      "source": [
        "# ideal model should have red dots on top of green dots\n",
        "plot_predictions(predictions=y_preds)"
      ],
      "metadata": {
        "colab": {
          "base_uri": "https://localhost:8080/",
          "height": 599
        },
        "id": "GmaRdA8wpYYI",
        "outputId": "6c0048c3-ad9b-4d39-86f8-9d7445198b3d"
      },
      "execution_count": 35,
      "outputs": [
        {
          "output_type": "display_data",
          "data": {
            "text/plain": [
              "<Figure size 1000x700 with 1 Axes>"
            ],
            "image/png": "[encoded data removed]"
          },
          "metadata": {}
        }
      ]
    },
    {
      "cell_type": "markdown",
      "source": [
        "### 3. Train model\n",
        "\n",
        "The whole idea of training is for a model to move from some *unknown* parameters (these may be random) to some *known* parameters.\n",
        "\n",
        "Or in other words from a poor representation of the data to a better representation of the data.\n",
        "\n",
        "One way to measure how poor or how wrong your models predictions are is to use a loss function.\n",
        "\n",
        "* Note: Loss function may also be called cost function or criterion in different areas. For our case, we're going to refer to it as a loss function.\n",
        "\n",
        "Things we need to train:\n",
        "\n",
        "* **Loss function:** A function to measure how wrong your model's predictions are to the ideal outputs, lower is better.\n",
        "\n",
        "* **Optimizer:** Takes into account the loss of a model and adjusts the model's parameters (e.g. weight & bias in our case) to improve the loss function.\n",
        "  * Inside the optimizer you'll often have to set two parameters:\n",
        "    * `params` - the model params you'd like to optimize, for example `params=model_0.parameters()`\n",
        "    * `lr` (learning rate) - the learning rate is a hyperparameter that defines how big/small the optimizer changes the parameters with each step (a small `lr` results in small changes, a large `lr` results in large changes)\n",
        "\n",
        "And specifically for PyTorch, we need:\n",
        "* A training loop\n",
        "* A testing loop"
      ],
      "metadata": {
        "id": "xw6TygrqqR0L"
      }
    },
    {
      "cell_type": "code",
      "source": [
        "list(model_0.parameters())"
      ],
      "metadata": {
        "colab": {
          "base_uri": "https://localhost:8080/"
        },
        "id": "HpWpahwkuKAE",
        "outputId": "8b5679d3-8b05-4efc-b99b-c1dec9a4de6b"
      },
      "execution_count": 36,
      "outputs": [
        {
          "output_type": "execute_result",
          "data": {
            "text/plain": [
              "[Parameter containing:\n",
              " tensor([0.3367], requires_grad=True),\n",
              " Parameter containing:\n",
              " tensor([0.1288], requires_grad=True)]"
            ]
          },
          "metadata": {},
          "execution_count": 36
        }
      ]
    },
    {
      "cell_type": "code",
      "source": [
        "# Check out our model's parameters (a parameter is a value that the model sets itself)\n",
        "model_0.state_dict()"
      ],
      "metadata": {
        "colab": {
          "base_uri": "https://localhost:8080/"
        },
        "id": "4eFjxPTsuQ_U",
        "outputId": "e24a10d0-add4-4cae-f81e-b99d2e111fa7"
      },
      "execution_count": 37,
      "outputs": [
        {
          "output_type": "execute_result",
          "data": {
            "text/plain": [
              "OrderedDict([('weights', tensor([0.3367])), ('bias', tensor([0.1288]))])"
            ]
          },
          "metadata": {},
          "execution_count": 37
        }
      ]
    },
    {
      "cell_type": "code",
      "source": [
        "# Setup a loss function\n",
        "# loss_fn = torch.mean(torch.abs(y_pred-y_test)), essentially averaging the difference in values (same as below)\n",
        "loss_fn = nn.L1Loss()\n",
        "\n",
        "# Setup an optimizer  (stochastic gradient descent(most popular optimizer))\n",
        "optimizer = torch.optim.SGD(params = model_0.parameters(),\n",
        "                            lr = 0.01) # lr = learning rate = possibility the most important hyperparameter you can set, smaller the learning rate the smaller the change in the parameter and vice versa"
      ],
      "metadata": {
        "id": "BdXBWVJWuTZP"
      },
      "execution_count": 38,
      "outputs": []
    },
    {
      "cell_type": "markdown",
      "source": [
        "**Q:** Which loss function should the optimizer?\n",
        "\n",
        "**A:** This will be problem specific. But with experience, you'll get an idea of what works and what doesn't with your particular problem set.\n",
        "\n",
        "For example, for a regression problem (like ours), a loss function of `nn.L1Loss()` and an optimizer like `torch.optim.SGD()` will suffice\n",
        "\n",
        "But for a classification problem like classifying whether a photo is of a dog or cat, you'll likely want to use a loss function of `nn.BCELoss()` (binary cross entropy loss)."
      ],
      "metadata": {
        "id": "wJzQO-YDwrpp"
      }
    },
    {
      "cell_type": "markdown",
      "source": [
        "### Building a training loop (and a testing loop) in PyTorch\n",
        "\n",
        "A couple of things we need in a training loop:\n",
        "0. Loop through the data and do.\n",
        "1. Forward pass/forward propagation (this involes data moving through our model's `forward()` functions) - data moving from input layer to output layer. This makes predictions on the data.\n",
        "2. Calculate the loss (compared forward pass predictions to ground truth labels)\n",
        "3. Optimizer zero grad\n",
        "4. Loss backward - move backwards through the network to calculate the gradients of each of the parameters of our model with respect to the loss (**backpropagation**)\n",
        "5. Optimizer step - use the optimizer to adjust our model's parameters to try and improve the loss (**gradient descent**)\n",
        "\n",
        "Gradient is the slope"
      ],
      "metadata": {
        "id": "DwnRoJ280urN"
      }
    },
    {
      "cell_type": "code",
      "source": [
        "torch.manual_seed(42)\n",
        "# An epoch is one loop through the data... (this is a hyperparameter because we set it ourselves)\n",
        "epochs = 100\n",
        "\n",
        "### Training\n",
        "# 0. Loop through the data\n",
        "for epoch in range(epochs):\n",
        "  # Set the model to training mode, this is default stage of model\n",
        "  model_0.train() # train mode in PyTorch sets all parameters that require gradients to require gradients\n",
        "\n",
        "  # 1. Forward pass on train data using forward() method inside <- performs forward() method located inside the model object\n",
        "  y_pred = model_0(X_train)\n",
        "\n",
        "  # 2. Calculate the loss (inputs, target) (how different models results are from true values)\n",
        "  loss = loss_fn(y_pred, y_train)\n",
        "  print(f\"Loss: {loss}\")\n",
        "\n",
        "  # 3. Optimizer zero grad  (they accumulate by default)777\n",
        "  optimizer.zero_grad()\n",
        "\n",
        "  # 4. Perform backpropagation on the loss with respect to the parameters of the model\n",
        "  loss.backward()\n",
        "\n",
        "  # 5. Step the optimizer (perform gradient descent), to update model's parameters with respect to gradients calculated by loss.backward()\n",
        "  optimizer.step() # by default how the optimizer changes will accumulate through the loop so... we have to zero them above in step 3 for the next iteration of the loop\n",
        "\n",
        "  ### Testing\n",
        "  model_0.eval() # turns off gradient tracking\n",
        "\n",
        "  # Print out model state dict()\n",
        "  print(model_0.state_dict())"
      ],
      "metadata": {
        "colab": {
          "base_uri": "https://localhost:8080/"
        },
        "id": "GQ5rGdIw016e",
        "outputId": "452ed2b2-6eee-46c8-b6e4-c60d006bb0e2"
      },
      "execution_count": 103,
      "outputs": [
        {
          "output_type": "stream",
          "name": "stdout",
          "text": [
            "Loss: 0.039933640509843826\n",
            "OrderedDict([('weights', tensor([0.5028])), ('bias', tensor([0.3818]))])\n",
            "Loss: 0.03958464413881302\n",
            "OrderedDict([('weights', tensor([0.5046])), ('bias', tensor([0.3813]))])\n",
            "Loss: 0.03923564404249191\n",
            "OrderedDict([('weights', tensor([0.5064])), ('bias', tensor([0.3808]))])\n",
            "Loss: 0.03888664394617081\n",
            "OrderedDict([('weights', tensor([0.5082])), ('bias', tensor([0.3803]))])\n",
            "Loss: 0.0385376438498497\n",
            "OrderedDict([('weights', tensor([0.5100])), ('bias', tensor([0.3798]))])\n",
            "Loss: 0.03818932920694351\n",
            "OrderedDict([('weights', tensor([0.5116])), ('bias', tensor([0.3788]))])\n",
            "Loss: 0.03785243630409241\n",
            "OrderedDict([('weights', tensor([0.5134])), ('bias', tensor([0.3783]))])\n",
            "Loss: 0.0375034399330616\n",
            "OrderedDict([('weights', tensor([0.5152])), ('bias', tensor([0.3778]))])\n",
            "Loss: 0.037164121866226196\n",
            "OrderedDict([('weights', tensor([0.5168])), ('bias', tensor([0.3768]))])\n",
            "Loss: 0.03681822493672371\n",
            "OrderedDict([('weights', tensor([0.5186])), ('bias', tensor([0.3763]))])\n",
            "Loss: 0.03647511452436447\n",
            "OrderedDict([('weights', tensor([0.5202])), ('bias', tensor([0.3753]))])\n",
            "Loss: 0.03613303601741791\n",
            "OrderedDict([('weights', tensor([0.5220])), ('bias', tensor([0.3748]))])\n",
            "Loss: 0.03578609973192215\n",
            "OrderedDict([('weights', tensor([0.5236])), ('bias', tensor([0.3738]))])\n",
            "Loss: 0.03544783592224121\n",
            "OrderedDict([('weights', tensor([0.5254])), ('bias', tensor([0.3733]))])\n",
            "Loss: 0.035098835825920105\n",
            "OrderedDict([('weights', tensor([0.5272])), ('bias', tensor([0.3728]))])\n",
            "Loss: 0.03476089984178543\n",
            "OrderedDict([('weights', tensor([0.5288])), ('bias', tensor([0.3718]))])\n",
            "Loss: 0.03441363573074341\n",
            "OrderedDict([('weights', tensor([0.5306])), ('bias', tensor([0.3713]))])\n",
            "Loss: 0.03407188132405281\n",
            "OrderedDict([('weights', tensor([0.5322])), ('bias', tensor([0.3703]))])\n",
            "Loss: 0.03372843936085701\n",
            "OrderedDict([('weights', tensor([0.5340])), ('bias', tensor([0.3698]))])\n",
            "Loss: 0.03338287025690079\n",
            "OrderedDict([('weights', tensor([0.5355])), ('bias', tensor([0.3688]))])\n",
            "Loss: 0.033043231815099716\n",
            "OrderedDict([('weights', tensor([0.5373])), ('bias', tensor([0.3683]))])\n",
            "Loss: 0.03269423171877861\n",
            "OrderedDict([('weights', tensor([0.5391])), ('bias', tensor([0.3678]))])\n",
            "Loss: 0.032357655465602875\n",
            "OrderedDict([('weights', tensor([0.5407])), ('bias', tensor([0.3668]))])\n",
            "Loss: 0.03200903534889221\n",
            "OrderedDict([('weights', tensor([0.5425])), ('bias', tensor([0.3663]))])\n",
            "Loss: 0.03166864812374115\n",
            "OrderedDict([('weights', tensor([0.5441])), ('bias', tensor([0.3653]))])\n",
            "Loss: 0.03132382780313492\n",
            "OrderedDict([('weights', tensor([0.5459])), ('bias', tensor([0.3648]))])\n",
            "Loss: 0.030979642644524574\n",
            "OrderedDict([('weights', tensor([0.5475])), ('bias', tensor([0.3638]))])\n",
            "Loss: 0.030638623982667923\n",
            "OrderedDict([('weights', tensor([0.5493])), ('bias', tensor([0.3633]))])\n",
            "Loss: 0.0302906334400177\n",
            "OrderedDict([('weights', tensor([0.5509])), ('bias', tensor([0.3623]))])\n",
            "Loss: 0.029953425750136375\n",
            "OrderedDict([('weights', tensor([0.5527])), ('bias', tensor([0.3618]))])\n",
            "Loss: 0.02960442565381527\n",
            "OrderedDict([('weights', tensor([0.5545])), ('bias', tensor([0.3613]))])\n",
            "Loss: 0.029265418648719788\n",
            "OrderedDict([('weights', tensor([0.5561])), ('bias', tensor([0.3603]))])\n",
            "Loss: 0.028919223695993423\n",
            "OrderedDict([('weights', tensor([0.5579])), ('bias', tensor([0.3598]))])\n",
            "Loss: 0.028576409444212914\n",
            "OrderedDict([('weights', tensor([0.5595])), ('bias', tensor([0.3588]))])\n",
            "Loss: 0.028234025463461876\n",
            "OrderedDict([('weights', tensor([0.5613])), ('bias', tensor([0.3583]))])\n",
            "Loss: 0.02788739837706089\n",
            "OrderedDict([('weights', tensor([0.5629])), ('bias', tensor([0.3573]))])\n",
            "Loss: 0.02754882536828518\n",
            "OrderedDict([('weights', tensor([0.5647])), ('bias', tensor([0.3568]))])\n",
            "Loss: 0.027199819684028625\n",
            "OrderedDict([('weights', tensor([0.5665])), ('bias', tensor([0.3563]))])\n",
            "Loss: 0.026862185448408127\n",
            "OrderedDict([('weights', tensor([0.5681])), ('bias', tensor([0.3553]))])\n",
            "Loss: 0.02651461586356163\n",
            "OrderedDict([('weights', tensor([0.5699])), ('bias', tensor([0.3548]))])\n",
            "Loss: 0.026173178106546402\n",
            "OrderedDict([('weights', tensor([0.5715])), ('bias', tensor([0.3538]))])\n",
            "Loss: 0.025829419493675232\n",
            "OrderedDict([('weights', tensor([0.5733])), ('bias', tensor([0.3533]))])\n",
            "Loss: 0.02548416517674923\n",
            "OrderedDict([('weights', tensor([0.5748])), ('bias', tensor([0.3523]))])\n",
            "Loss: 0.025144213810563087\n",
            "OrderedDict([('weights', tensor([0.5766])), ('bias', tensor([0.3518]))])\n",
            "Loss: 0.02479521557688713\n",
            "OrderedDict([('weights', tensor([0.5784])), ('bias', tensor([0.3513]))])\n",
            "Loss: 0.024458957836031914\n",
            "OrderedDict([('weights', tensor([0.5800])), ('bias', tensor([0.3503]))])\n",
            "Loss: 0.024110013619065285\n",
            "OrderedDict([('weights', tensor([0.5818])), ('bias', tensor([0.3498]))])\n",
            "Loss: 0.02376994863152504\n",
            "OrderedDict([('weights', tensor([0.5834])), ('bias', tensor([0.3488]))])\n",
            "Loss: 0.02342480979859829\n",
            "OrderedDict([('weights', tensor([0.5852])), ('bias', tensor([0.3483]))])\n",
            "Loss: 0.023080935701727867\n",
            "OrderedDict([('weights', tensor([0.5868])), ('bias', tensor([0.3473]))])\n",
            "Loss: 0.022739607840776443\n",
            "OrderedDict([('weights', tensor([0.5886])), ('bias', tensor([0.3468]))])\n",
            "Loss: 0.022391926497220993\n",
            "OrderedDict([('weights', tensor([0.5902])), ('bias', tensor([0.3458]))])\n",
            "Loss: 0.022054409608244896\n",
            "OrderedDict([('weights', tensor([0.5920])), ('bias', tensor([0.3453]))])\n",
            "Loss: 0.02170540764927864\n",
            "OrderedDict([('weights', tensor([0.5938])), ('bias', tensor([0.3448]))])\n",
            "Loss: 0.021366719156503677\n",
            "OrderedDict([('weights', tensor([0.5954])), ('bias', tensor([0.3438]))])\n",
            "Loss: 0.021020207554101944\n",
            "OrderedDict([('weights', tensor([0.5972])), ('bias', tensor([0.3433]))])\n",
            "Loss: 0.020677709951996803\n",
            "OrderedDict([('weights', tensor([0.5988])), ('bias', tensor([0.3423]))])\n",
            "Loss: 0.02033500373363495\n",
            "OrderedDict([('weights', tensor([0.6006])), ('bias', tensor([0.3418]))])\n",
            "Loss: 0.01998869702219963\n",
            "OrderedDict([('weights', tensor([0.6022])), ('bias', tensor([0.3408]))])\n",
            "Loss: 0.019649803638458252\n",
            "OrderedDict([('weights', tensor([0.6040])), ('bias', tensor([0.3403]))])\n",
            "Loss: 0.019300809130072594\n",
            "OrderedDict([('weights', tensor([0.6058])), ('bias', tensor([0.3398]))])\n",
            "Loss: 0.018963487818837166\n",
            "OrderedDict([('weights', tensor([0.6074])), ('bias', tensor([0.3388]))])\n",
            "Loss: 0.01861560344696045\n",
            "OrderedDict([('weights', tensor([0.6092])), ('bias', tensor([0.3383]))])\n",
            "Loss: 0.018274478614330292\n",
            "OrderedDict([('weights', tensor([0.6108])), ('bias', tensor([0.3373]))])\n",
            "Loss: 0.017930403351783752\n",
            "OrderedDict([('weights', tensor([0.6126])), ('bias', tensor([0.3368]))])\n",
            "Loss: 0.01758546568453312\n",
            "OrderedDict([('weights', tensor([0.6141])), ('bias', tensor([0.3358]))])\n",
            "Loss: 0.017245199531316757\n",
            "OrderedDict([('weights', tensor([0.6159])), ('bias', tensor([0.3353]))])\n",
            "Loss: 0.016896454617381096\n",
            "OrderedDict([('weights', tensor([0.6175])), ('bias', tensor([0.3343]))])\n",
            "Loss: 0.01656000316143036\n",
            "OrderedDict([('weights', tensor([0.6193])), ('bias', tensor([0.3338]))])\n",
            "Loss: 0.016210997477173805\n",
            "OrderedDict([('weights', tensor([0.6211])), ('bias', tensor([0.3333]))])\n",
            "Loss: 0.01587124727666378\n",
            "OrderedDict([('weights', tensor([0.6227])), ('bias', tensor([0.3323]))])\n",
            "Loss: 0.015525798313319683\n",
            "OrderedDict([('weights', tensor([0.6245])), ('bias', tensor([0.3318]))])\n",
            "Loss: 0.015182236209511757\n",
            "OrderedDict([('weights', tensor([0.6261])), ('bias', tensor([0.3308]))])\n",
            "Loss: 0.014840595424175262\n",
            "OrderedDict([('weights', tensor([0.6279])), ('bias', tensor([0.3303]))])\n",
            "Loss: 0.01449323259294033\n",
            "OrderedDict([('weights', tensor([0.6295])), ('bias', tensor([0.3293]))])\n",
            "Loss: 0.014155393466353416\n",
            "OrderedDict([('weights', tensor([0.6313])), ('bias', tensor([0.3288]))])\n",
            "Loss: 0.013806397095322609\n",
            "OrderedDict([('weights', tensor([0.6331])), ('bias', tensor([0.3283]))])\n",
            "Loss: 0.013468016870319843\n",
            "OrderedDict([('weights', tensor([0.6347])), ('bias', tensor([0.3273]))])\n",
            "Loss: 0.013121193274855614\n",
            "OrderedDict([('weights', tensor([0.6365])), ('bias', tensor([0.3268]))])\n",
            "Loss: 0.01277900766581297\n",
            "OrderedDict([('weights', tensor([0.6381])), ('bias', tensor([0.3258]))])\n",
            "Loss: 0.012435992248356342\n",
            "OrderedDict([('weights', tensor([0.6399])), ('bias', tensor([0.3253]))])\n",
            "Loss: 0.01208999752998352\n",
            "OrderedDict([('weights', tensor([0.6415])), ('bias', tensor([0.3243]))])\n",
            "Loss: 0.011750795878469944\n",
            "OrderedDict([('weights', tensor([0.6433])), ('bias', tensor([0.3238]))])\n",
            "Loss: 0.011401787400245667\n",
            "OrderedDict([('weights', tensor([0.6451])), ('bias', tensor([0.3233]))])\n",
            "Loss: 0.011064787395298481\n",
            "OrderedDict([('weights', tensor([0.6467])), ('bias', tensor([0.3223]))])\n",
            "Loss: 0.010716589167714119\n",
            "OrderedDict([('weights', tensor([0.6485])), ('bias', tensor([0.3218]))])\n",
            "Loss: 0.010375778190791607\n",
            "OrderedDict([('weights', tensor([0.6501])), ('bias', tensor([0.3208]))])\n",
            "Loss: 0.010031387209892273\n",
            "OrderedDict([('weights', tensor([0.6519])), ('bias', tensor([0.3203]))])\n",
            "Loss: 0.009686763398349285\n",
            "OrderedDict([('weights', tensor([0.6534])), ('bias', tensor([0.3193]))])\n",
            "Loss: 0.009346187114715576\n",
            "OrderedDict([('weights', tensor([0.6552])), ('bias', tensor([0.3188]))])\n",
            "Loss: 0.008997755125164986\n",
            "OrderedDict([('weights', tensor([0.6568])), ('bias', tensor([0.3178]))])\n",
            "Loss: 0.008660981431603432\n",
            "OrderedDict([('weights', tensor([0.6586])), ('bias', tensor([0.3173]))])\n",
            "Loss: 0.008311985060572624\n",
            "OrderedDict([('weights', tensor([0.6604])), ('bias', tensor([0.3168]))])\n",
            "Loss: 0.007972544990479946\n",
            "OrderedDict([('weights', tensor([0.6620])), ('bias', tensor([0.3158]))])\n",
            "Loss: 0.007626785431057215\n",
            "OrderedDict([('weights', tensor([0.6638])), ('bias', tensor([0.3153]))])\n",
            "Loss: 0.0072835334576666355\n",
            "OrderedDict([('weights', tensor([0.6654])), ('bias', tensor([0.3143]))])\n",
            "Loss: 0.006941580679267645\n",
            "OrderedDict([('weights', tensor([0.6672])), ('bias', tensor([0.3138]))])\n",
            "Loss: 0.006594526115804911\n",
            "OrderedDict([('weights', tensor([0.6688])), ('bias', tensor([0.3128]))])\n",
            "Loss: 0.006256377790123224\n",
            "OrderedDict([('weights', tensor([0.6706])), ('bias', tensor([0.3123]))])\n",
            "Loss: 0.005907376762479544\n",
            "OrderedDict([('weights', tensor([0.6724])), ('bias', tensor([0.3118]))])\n"
          ]
        }
      ]
    },
    {
      "cell_type": "code",
      "source": [
        "with torch.inference_mode():\n",
        "  y_preds_new = model_0(X_test)"
      ],
      "metadata": {
        "id": "3n6QViRR6QMI"
      },
      "execution_count": 104,
      "outputs": []
    },
    {
      "cell_type": "code",
      "source": [
        "model_0.state_dict()"
      ],
      "metadata": {
        "colab": {
          "base_uri": "https://localhost:8080/"
        },
        "id": "6Y3r-oyL95tQ",
        "outputId": "fb9272fd-a253-46fd-bc00-5eb625bf5f33"
      },
      "execution_count": 49,
      "outputs": [
        {
          "output_type": "execute_result",
          "data": {
            "text/plain": [
              "OrderedDict([('weights', tensor([0.3562])), ('bias', tensor([0.1788]))])"
            ]
          },
          "metadata": {},
          "execution_count": 49
        }
      ]
    },
    {
      "cell_type": "code",
      "source": [
        "plot_predictions(predictions=y_preds)"
      ],
      "metadata": {
        "colab": {
          "base_uri": "https://localhost:8080/",
          "height": 599
        },
        "id": "c5oSJ0uFAXT_",
        "outputId": "0da66160-e2e3-4e78-940d-4ad2c72bb9ac"
      },
      "execution_count": 100,
      "outputs": [
        {
          "output_type": "display_data",
          "data": {
            "text/plain": [
              "<Figure size 1000x700 with 1 Axes>"
            ],
            "image/png": "[encoded data removed]"
          },
          "metadata": {}
        }
      ]
    },
    {
      "cell_type": "code",
      "source": [
        "plot_predictions(predictions=y_preds_new)"
      ],
      "metadata": {
        "colab": {
          "base_uri": "https://localhost:8080/",
          "height": 599
        },
        "id": "RCCU4iuMAac1",
        "outputId": "6500e445-8769-497d-96fc-5b9ff91fc32a"
      },
      "execution_count": 105,
      "outputs": [
        {
          "output_type": "display_data",
          "data": {
            "text/plain": [
              "<Figure size 1000x700 with 1 Axes>"
            ],
            "image/png": "[encoded data removed]"
          },
          "metadata": {}
        }
      ]
    },
    {
      "cell_type": "code",
      "source": [],
      "metadata": {
        "id": "BaAxLeBeAjbK"
      },
      "execution_count": null,
      "outputs": []
    }
  ]
}